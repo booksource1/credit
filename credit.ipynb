{
 "cells": [
  {
   "cell_type": "code",
   "execution_count": 1,
   "metadata": {
    "collapsed": true,
    "ExecuteTime": {
     "end_time": "2023-06-02T16:53:40.455020200Z",
     "start_time": "2023-06-02T16:53:40.445017500Z"
    }
   },
   "outputs": [],
   "source": [
    "import numpy as np\n",
    "import pandas as pd\n",
    "import seaborn as sns\n",
    "from scipy import stats\n",
    "from sklearn.impute import SimpleImputer\n",
    "import matplotlib.pyplot as plt\n",
    "from sklearn.preprocessing import LabelEncoder, OneHotEncoder, StandardScaler\n",
    "from sklearn.impute import SimpleImputer\n",
    "from sklearn.model_selection import train_test_split"
   ]
  },
  {
   "cell_type": "code",
   "execution_count": 283,
   "outputs": [
    {
     "name": "stdout",
     "output_type": "stream",
     "text": [
      "<class 'pandas.core.frame.DataFrame'>\n",
      "RangeIndex: 23413 entries, 0 to 23412\n",
      "Data columns (total 28 columns):\n",
      " #   Column                    Non-Null Count  Dtype  \n",
      "---  ------                    --------------  -----  \n",
      " 0   ID                        23413 non-null  object \n",
      " 1   Customer_ID               23413 non-null  object \n",
      " 2   Month                     23413 non-null  object \n",
      " 3   Name                      21019 non-null  object \n",
      " 4   Age                       23413 non-null  object \n",
      " 5   SSN                       23413 non-null  object \n",
      " 6   Occupation                23413 non-null  object \n",
      " 7   Annual_Income             23413 non-null  object \n",
      " 8   Monthly_Inhand_Salary     19832 non-null  float64\n",
      " 9   Num_Bank_Accounts         23413 non-null  int64  \n",
      " 10  Num_Credit_Card           23413 non-null  int64  \n",
      " 11  Interest_Rate             23413 non-null  int64  \n",
      " 12  Num_of_Loan               23413 non-null  object \n",
      " 13  Type_of_Loan              21019 non-null  object \n",
      " 14  Delay_from_due_date       23413 non-null  int64  \n",
      " 15  Num_of_Delayed_Payment    21799 non-null  object \n",
      " 16  Changed_Credit_Limit      23413 non-null  object \n",
      " 17  Num_Credit_Inquiries      22975 non-null  float64\n",
      " 18  Credit_Mix                23413 non-null  object \n",
      " 19  Outstanding_Debt          23413 non-null  object \n",
      " 20  Credit_Utilization_Ratio  23413 non-null  float64\n",
      " 21  Credit_History_Age        21270 non-null  object \n",
      " 22  Payment_of_Min_Amount     23413 non-null  object \n",
      " 23  Total_EMI_per_month       23413 non-null  float64\n",
      " 24  Amount_invested_monthly   22304 non-null  object \n",
      " 25  Payment_Behaviour         23413 non-null  object \n",
      " 26  Monthly_Balance           23126 non-null  object \n",
      " 27  Credit_Score              23413 non-null  object \n",
      "dtypes: float64(4), int64(4), object(20)\n",
      "memory usage: 5.0+ MB\n"
     ]
    }
   ],
   "source": [
    "#读取数据集\n",
    "df = pd.read_csv('train_split.csv',index_col = None)\n",
    "#查看数据集信息\n",
    "df.info()"
   ],
   "metadata": {
    "collapsed": false,
    "ExecuteTime": {
     "end_time": "2023-06-02T16:53:40.775178700Z",
     "start_time": "2023-06-02T16:53:40.625162Z"
    }
   }
  },
  {
   "cell_type": "markdown",
   "source": [
    "### 1.Age\n",
    "1. 将带有若干'_'的值去除所有'_'，保留数字\n",
    "2. 年龄必须大于0且小于100 数据集中出现大量负数和大于100的值当作异常值处理\n",
    "3. 将数据类型转换为int（由于数据集中存在字符串由pandas读入类型为object）"
   ],
   "metadata": {
    "collapsed": false
   }
  },
  {
   "cell_type": "code",
   "execution_count": 284,
   "outputs": [
    {
     "data": {
      "text/plain": "0        18\n1        31\n2        37\n3        33\n4        18\n         ..\n23408    38\n23409    37\n23410    33\n23411    32\n23412    41\nName: Age, Length: 23413, dtype: Int64"
     },
     "execution_count": 284,
     "metadata": {},
     "output_type": "execute_result"
    }
   ],
   "source": [
    "#Age\n",
    "\n",
    "#将Age转化为String类型\n",
    "df['Age'] = df['Age'].astype(str)\n",
    "\n",
    "#将Age中的带'_'的值去除'_'\n",
    "df['Age'] = df['Age'].str.replace('_', '')\n",
    "\n",
    "#将Age变为int类型\n",
    "df['Age'] = df['Age'].astype(pd.Int64Dtype())\n",
    "\n",
    "#将Age中小于等于0和超过100的值替换为NaN\n",
    "df['Age'] = df['Age'].where(df['Age'] <= 100, np.nan)\n",
    "df['Age'] = df['Age'].where(df['Age'] > 0, np.nan)\n",
    "\n",
    "df['Age']"
   ],
   "metadata": {
    "collapsed": false,
    "ExecuteTime": {
     "end_time": "2023-06-02T16:53:41.042839200Z",
     "start_time": "2023-06-02T16:53:41.012933600Z"
    }
   }
  },
  {
   "cell_type": "markdown",
   "source": [
    "### 2. Occupation\n",
    "1. \"_______\"是一个缺失值\n",
    "    使用正则匹配的方式，替换成NaN"
   ],
   "metadata": {
    "collapsed": false
   }
  },
  {
   "cell_type": "code",
   "execution_count": 285,
   "outputs": [
    {
     "data": {
      "text/plain": "0              Manager\n1             Mechanic\n2             Musician\n3               Doctor\n4           Journalist\n             ...      \n23408    Media_Manager\n23409         Musician\n23410          Teacher\n23411           Doctor\n23412           Lawyer\nName: Occupation, Length: 23413, dtype: object"
     },
     "execution_count": 285,
     "metadata": {},
     "output_type": "execute_result"
    }
   ],
   "source": [
    "#Occupation\n",
    "\n",
    "#将Occupation中全为若干个'_'组成的值替换为NaN\n",
    "df['Occupation'].replace('^_+$', np.nan, regex=True, inplace=True)\n",
    "\n",
    "df['Occupation']"
   ],
   "metadata": {
    "collapsed": false,
    "ExecuteTime": {
     "end_time": "2023-06-02T16:53:41.440650400Z",
     "start_time": "2023-06-02T16:53:41.410195900Z"
    }
   }
  },
  {
   "cell_type": "markdown",
   "source": [
    "### 3. Annual_Income\n",
    "1. 将带有若干'_'的值去除所有'_'，保留数字\n",
    "2. 将数据类型转换为float（保留两位小数）（由于数据集中存在字符串由pandas读入类型为object）"
   ],
   "metadata": {
    "collapsed": false
   }
  },
  {
   "cell_type": "code",
   "execution_count": 286,
   "outputs": [
    {
     "data": {
      "text/plain": "0         31633.54\n1         33446.44\n2         21212.42\n3         60938.13\n4         73057.16\n           ...    \n23408     57810.68\n23409     15597.31\n23410    179948.84\n23411      7821.24\n23412     20889.65\nName: Annual_Income, Length: 23413, dtype: float64"
     },
     "execution_count": 286,
     "metadata": {},
     "output_type": "execute_result"
    }
   ],
   "source": [
    "#Annual_Income\n",
    "\n",
    "#将Annual_Income转化为String类型\n",
    "df['Annual_Income'] = df['Annual_Income'].astype(str)\n",
    "\n",
    "#将Annual_Income中的带'_'的值去除'_'\n",
    "df['Annual_Income'] = df['Annual_Income'].str.replace('_', '')\n",
    "\n",
    "#将Annual_Income变为float类型并保留两位小数\n",
    "df['Annual_Income'] = df['Annual_Income'].astype(float)\n",
    "df['Annual_Income'] = df['Annual_Income'].round(2)\n",
    "df['Annual_Income']"
   ],
   "metadata": {
    "collapsed": false,
    "ExecuteTime": {
     "end_time": "2023-06-02T16:53:42.110709400Z",
     "start_time": "2023-06-02T16:53:42.090716200Z"
    }
   }
  },
  {
   "cell_type": "markdown",
   "source": [
    "### 4. Monthly_Inhand_Salary"
   ],
   "metadata": {
    "collapsed": false
   }
  },
  {
   "cell_type": "code",
   "execution_count": 287,
   "outputs": [
    {
     "data": {
      "text/plain": "0         2930.13\n1             NaN\n2         1910.70\n3         5163.18\n4         5998.10\n           ...   \n23408     4896.56\n23409     1456.78\n23410    14836.74\n23411      468.77\n23412     1710.80\nName: Monthly_Inhand_Salary, Length: 23413, dtype: float64"
     },
     "execution_count": 287,
     "metadata": {},
     "output_type": "execute_result"
    }
   ],
   "source": [
    "#Monthly_Inhand_Salary\n",
    "\n",
    "#将Monthly_Inhand_Salary保留两位小数\n",
    "df['Monthly_Inhand_Salary'] = df['Monthly_Inhand_Salary'].round(2)\n",
    "\n",
    "df['Monthly_Inhand_Salary']"
   ],
   "metadata": {
    "collapsed": false,
    "ExecuteTime": {
     "end_time": "2023-06-02T16:53:42.931889100Z",
     "start_time": "2023-06-02T16:53:42.919422700Z"
    }
   }
  },
  {
   "cell_type": "markdown",
   "source": [
    "### 5. Num_Bank_Accounts\n",
    "1. 去除负数（账户数不可能为负数）\n",
    "2. 怀疑过多的银行账户是异常值，计算超过num的值所占百分比\n",
    "   在num = 1000时仍有0.52%（大约121个人）\n",
    "   查找资料发现美国银行数有5000家以上\n",
    "   综上，认为是合理的，不予处理"
   ],
   "metadata": {
    "collapsed": false
   }
  },
  {
   "cell_type": "code",
   "execution_count": 288,
   "outputs": [],
   "source": [
    "# 去除负数\n",
    "df['Num_Bank_Accounts'] = df['Num_Bank_Accounts'].where(df['Num_Bank_Accounts'] >= 0, np.nan)"
   ],
   "metadata": {
    "collapsed": false,
    "ExecuteTime": {
     "end_time": "2023-06-02T16:53:43.812030400Z",
     "start_time": "2023-06-02T16:53:43.804885400Z"
    }
   }
  },
  {
   "cell_type": "code",
   "execution_count": 289,
   "outputs": [
    {
     "name": "stdout",
     "output_type": "stream",
     "text": [
      "大于 1000 的数据占 0.52%\n"
     ]
    }
   ],
   "source": [
    "# Num_Bank_Accounts\n",
    "num = 1000\n",
    "\n",
    "# 计算 Num_Bank_Accounts中大于 20 的数据的个数\n",
    "count = df['Num_Bank_Accounts'][df['Num_Bank_Accounts'] > num].count()\n",
    "\n",
    "# 计算 Num_Bank_Accounts中数据的总个数\n",
    "total = df['Num_Bank_Accounts'].count()\n",
    "\n",
    "# 计算百分比\n",
    "percentage = count / total * 100\n",
    "\n",
    "# 打印结果\n",
    "print(f'大于 {num} 的数据占 {percentage:.2f}%')\n"
   ],
   "metadata": {
    "collapsed": false,
    "ExecuteTime": {
     "end_time": "2023-06-02T16:53:44.222066200Z",
     "start_time": "2023-06-02T16:53:44.203251600Z"
    }
   }
  },
  {
   "cell_type": "code",
   "execution_count": 290,
   "outputs": [
    {
     "data": {
      "text/plain": "ID                                                    0xc7bd\nCustomer_ID                                       CUS_0x4f2a\nMonth                                                 August\nName                                               Margaretf\nAge                                                       40\nSSN                                              807-03-5415\nOccupation                                          Engineer\nAnnual_Income                                     22136920.0\nMonthly_Inhand_Salary                                    NaN\nNum_Bank_Accounts                                        NaN\nNum_Credit_Card                                            6\nInterest_Rate                                              1\nNum_of_Loan                                                2\nType_of_Loan                    Auto Loan, and Not Specified\nDelay_from_due_date                                       10\nNum_of_Delayed_Payment                                     6\nChanged_Credit_Limit                                    9.49\nNum_Credit_Inquiries                                     6.0\nCredit_Mix                                                 _\nOutstanding_Debt                                      1151.7\nCredit_Utilization_Ratio                           38.278518\nCredit_History_Age                    22 Years and 10 Months\nPayment_of_Min_Amount                                     No\nTotal_EMI_per_month                               196.587321\nAmount_invested_monthly                   338.67230317776176\nPayment_Behaviour           High_spent_Medium_value_payments\nMonthly_Balance                            758.1550423229277\nCredit_Score                                            Good\nName: 2334, dtype: object"
     },
     "execution_count": 290,
     "metadata": {},
     "output_type": "execute_result"
    }
   ],
   "source": [
    "# 在数据预览时发现此行的Num_Credit_Card值为-1\n",
    "x = df.loc[2334]\n",
    "x\n",
    "# 通过观察已成功改变"
   ],
   "metadata": {
    "collapsed": false,
    "ExecuteTime": {
     "end_time": "2023-06-02T16:53:44.646684800Z",
     "start_time": "2023-06-02T16:53:44.626683300Z"
    }
   }
  },
  {
   "cell_type": "markdown",
   "source": [
    "### 6. Num_Credit_Card\n",
    "1. 去除负数（信用卡数不可能为负数）\n",
    "2. 怀疑过多的信用卡数是异常值，计算超过num的值所占百分比\n",
    "   在num = 1000时仍有0.82%（大约191个人）\n",
    "   查找资料发现美国银行数有5000家以上\n",
    "   综上，认为是合理的，不予处理"
   ],
   "metadata": {
    "collapsed": false
   }
  },
  {
   "cell_type": "code",
   "execution_count": 291,
   "outputs": [],
   "source": [
    "# 去除负数\n",
    "df['Num_Credit_Card'] = df['Num_Credit_Card'].where(df['Num_Credit_Card'] >= 0, np.nan)"
   ],
   "metadata": {
    "collapsed": false,
    "ExecuteTime": {
     "end_time": "2023-06-02T16:53:45.706140900Z",
     "start_time": "2023-06-02T16:53:45.698906300Z"
    }
   }
  },
  {
   "cell_type": "code",
   "execution_count": 292,
   "outputs": [
    {
     "name": "stdout",
     "output_type": "stream",
     "text": [
      "大于 1000 的数据占 0.82%\n"
     ]
    }
   ],
   "source": [
    "#Num_Credit_Card\n",
    "num = 1000\n",
    "\n",
    "# 计算 Num_Bank_Accounts中大于 20 的数据的个数\n",
    "count = df['Num_Credit_Card'][df['Num_Credit_Card'] > num].count()\n",
    "\n",
    "# 计算 Num_Bank_Accounts中数据的总个数\n",
    "total = df['Num_Credit_Card'].count()\n",
    "\n",
    "# 计算百分比\n",
    "percentage = count / total * 100\n",
    "\n",
    "# 打印结果\n",
    "print(f'大于 {num} 的数据占 {percentage:.2f}%')"
   ],
   "metadata": {
    "collapsed": false,
    "ExecuteTime": {
     "end_time": "2023-06-02T16:53:45.936363300Z",
     "start_time": "2023-06-02T16:53:45.916361400Z"
    }
   }
  },
  {
   "cell_type": "markdown",
   "source": [
    "### 7. Interest_Rate\n",
    "1. 怀疑超过100是异常值,但是经过统计\n",
    "   人数： 469\n",
    "   大于 100 的数据占 2.00%\n",
    "   暂时不予处理"
   ],
   "metadata": {
    "collapsed": false
   }
  },
  {
   "cell_type": "code",
   "execution_count": 293,
   "outputs": [
    {
     "name": "stdout",
     "output_type": "stream",
     "text": [
      "人数： 469\n",
      "大于 100 的数据占 2.00%\n"
     ]
    }
   ],
   "source": [
    "# Interest_Rate\n",
    "\n",
    "num = 100\n",
    "\n",
    "# 计算 Interest_Rate中大于 100 的数据的个数\n",
    "count = df['Interest_Rate'][df['Interest_Rate'] > num].count()\n",
    "\n",
    "# 计算 Interest_Rate中数据的总个数\n",
    "total = df['Interest_Rate'].count()\n",
    "print(f'人数： {count}')\n",
    "# 计算百分比\n",
    "percentage = count / total * 100\n",
    "\n",
    "# 打印结果\n",
    "print(f'大于 {num} 的数据占 {percentage:.2f}%')\n"
   ],
   "metadata": {
    "collapsed": false,
    "ExecuteTime": {
     "end_time": "2023-06-02T16:53:46.335283400Z",
     "start_time": "2023-06-02T16:53:46.315284100Z"
    }
   }
  },
  {
   "cell_type": "markdown",
   "source": [
    "### 8. Num_of_Loan\n",
    "1. 将带有若干'_'的值去除所有'_'，保留数字\n",
    "2. 贷款数必须大于等于0 数据集中出现大量负数当作异常值处理，替换成NaN\n",
    "3. 怀疑大于100的值为异常值，通过与Type_of_Loan对应，发现过大的Num_of_Loan是异常值，替换为NaN\n",
    "4. 将数据类型转换为int（由于数据集中存在字符串由pandas读入类型为object）"
   ],
   "metadata": {
    "collapsed": false
   }
  },
  {
   "cell_type": "code",
   "execution_count": 294,
   "outputs": [
    {
     "data": {
      "text/plain": "0        3\n1        6\n2        4\n3        8\n4        2\n        ..\n23408    4\n23409    5\n23410    3\n23411    6\n23412    5\nName: Num_of_Loan, Length: 23413, dtype: Int64"
     },
     "execution_count": 294,
     "metadata": {},
     "output_type": "execute_result"
    }
   ],
   "source": [
    "# Num_of_Loan\n",
    "\n",
    "#将Num_of_Loan转化为String类型\n",
    "df['Num_of_Loan'] = df['Num_of_Loan'].astype(str)\n",
    "\n",
    "#将Age中的带'_'的值去除'_'\n",
    "df['Num_of_Loan'] = df['Num_of_Loan'].str.replace('_', '')\n",
    "\n",
    "#将Num_of_Loan变为int类型\n",
    "df['Num_of_Loan'] = df['Num_of_Loan'].astype(pd.Int64Dtype())\n",
    "\n",
    "#将Num_of_Loan中小于0值替换为NaN\n",
    "df['Num_of_Loan'] = df['Num_of_Loan'].where(df['Num_of_Loan'] >= 0, np.nan)\n",
    "\n",
    "df['Num_of_Loan']\n",
    "\n"
   ],
   "metadata": {
    "collapsed": false,
    "ExecuteTime": {
     "end_time": "2023-06-02T16:53:46.755351700Z",
     "start_time": "2023-06-02T16:53:46.736134700Z"
    }
   }
  },
  {
   "cell_type": "code",
   "execution_count": 295,
   "outputs": [
    {
     "data": {
      "text/plain": "ID                                                                    0x17866\nCustomer_ID                                                        CUS_0xab37\nMonth                                                                     May\nName                                                             Tarmo Virkip\nAge                                                                        42\nSSN                                                               619-06-3124\nOccupation                                                             Lawyer\nAnnual_Income                                                         70956.8\nMonthly_Inhand_Salary                                                 6064.07\nNum_Bank_Accounts                                                         6.0\nNum_Credit_Card                                                             6\nInterest_Rate                                                            2278\nNum_of_Loan                                                              <NA>\nType_of_Loan                Personal Loan, Student Loan, Student Loan, Hom...\nDelay_from_due_date                                                        54\nNum_of_Delayed_Payment                                                     24\nChanged_Credit_Limit                                                    22.56\nNum_Credit_Inquiries                                                     11.0\nCredit_Mix                                                                Bad\nOutstanding_Debt                                                      2503.49\nCredit_Utilization_Ratio                                            37.822583\nCredit_History_Age                                       7 Years and 0 Months\nPayment_of_Min_Amount                                                      NM\nTotal_EMI_per_month                                                271.603929\nAmount_invested_monthly                                     206.1354426215145\nPayment_Behaviour                              Low_spent_Small_value_payments\nMonthly_Balance                                            418.66729531808403\nCredit_Score                                                             Poor\nName: 487, dtype: object"
     },
     "execution_count": 295,
     "metadata": {},
     "output_type": "execute_result"
    }
   ],
   "source": [
    "x = df.loc[487]\n",
    "x"
   ],
   "metadata": {
    "collapsed": false,
    "ExecuteTime": {
     "end_time": "2023-06-02T16:53:46.940387400Z",
     "start_time": "2023-06-02T16:53:46.930167500Z"
    }
   }
  },
  {
   "cell_type": "code",
   "execution_count": 296,
   "outputs": [
    {
     "data": {
      "text/plain": "            ID Customer_ID     Month            Name  Age          SSN  \\\n68     0x1a924  CUS_0x804d     March           Johni   23  201-52-2520   \n669     0x3af2  CUS_0x74d5   January       Mortimerz   25  432-94-4099   \n854    0x1f164   CUS_0x990      July         Dhanyai   19  655-92-9108   \n1125    0xcb26  CUS_0x6c27       May       Hideyukic   19  297-05-8610   \n1525    0x236b  CUS_0x409e  February  James Pomfretu   23  088-38-3435   \n...        ...         ...       ...             ...  ...          ...   \n21914  0x11f90  CUS_0x47fe     March        Egenterq   21  740-19-9586   \n22992   0x7f36  CUS_0x3475       May             NaN   27  271-20-5461   \n23048   0x6cfd  CUS_0x1410    August             NaN   43  087-58-6247   \n23232  0x183ec  CUS_0x317e     March       Jennifery   18  527-06-4214   \n23293  0x1a07a  CUS_0x67e2       May          Emilyg   17  438-69-8340   \n\n         Occupation  Annual_Income  Monthly_Inhand_Salary  Num_Bank_Accounts  \\\n68        Architect       21897.50                1986.79                1.0   \n669          Lawyer       20821.80                2010.15                5.0   \n854       Developer       18937.61                1536.13                8.0   \n1125     Journalist       56797.38                4784.12                6.0   \n1525        Manager       47275.96                4238.66                6.0   \n...             ...            ...                    ...                ...   \n21914           NaN        7085.39                 668.45                9.0   \n22992           NaN       36783.38                3151.28               10.0   \n23048       Teacher       96882.93                8229.58                5.0   \n23232      Mechanic       62008.35                5256.36               10.0   \n23293  Entrepreneur       30195.47                2619.19                5.0   \n\n       ...  Credit_Mix  Outstanding_Debt  Credit_Utilization_Ratio  \\\n68     ...        Good            630.68                 33.305599   \n669    ...        Good           1485.97                 36.990987   \n854    ...           _            1306.3                 31.886706   \n1125   ...    Standard           2279.72                 37.030462   \n1525   ...        Good             302.1                 34.883541   \n...    ...         ...               ...                       ...   \n21914  ...         Bad           3988.68                 35.074456   \n22992  ...         Bad           4555.72                 27.449575   \n23048  ...        Good            355.41                 27.312835   \n23232  ...    Standard           2360.12                 38.523179   \n23293  ...           _            893.63                 40.182993   \n\n          Credit_History_Age  Payment_of_Min_Amount Total_EMI_per_month  \\\n68                       NaN                     No           15.487464   \n669    26 Years and 9 Months                     NM           21.189697   \n854    15 Years and 4 Months                    Yes           80.208365   \n1125   16 Years and 3 Months                    Yes          141.721835   \n1525   22 Years and 3 Months                     No          121.928877   \n...                      ...                    ...                 ...   \n21914  13 Years and 3 Months                    Yes           25.989110   \n22992   1 Years and 9 Months                    Yes        33421.000000   \n23048                    NaN                     NM           73.173723   \n23232                    NaN                    Yes          127.392147   \n23293  26 Years and 9 Months                    Yes          145.099934   \n\n      Amount_invested_monthly                 Payment_Behaviour  \\\n68          33.43919969692089   High_spent_Large_value_payments   \n669                 __10000__    Low_spent_Small_value_payments   \n854        27.515445030870843  High_spent_Medium_value_payments   \n1125        302.8541038952459    Low_spent_Large_value_payments   \n1525        469.7323729838309    Low_spent_Small_value_payments   \n...                       ...                               ...   \n21914      19.442465214926113   Low_spent_Medium_value_payments   \n22992      124.78002159848414    Low_spent_Small_value_payments   \n23048      180.20040454139752   High_spent_Large_value_payments   \n23232      179.39112720340634  High_spent_Medium_value_payments   \n23293        66.0486721375192   High_spent_Large_value_payments   \n\n          Monthly_Balance Credit_Score  \n68     389.75254484189935         Good  \n669     242.5757749251817         Poor  \n854     295.8896070880838         Poor  \n1125   303.83556071656346         Poor  \n1525   122.20508315395494         Good  \n...                   ...          ...  \n21914   301.4133414733218         Poor  \n22992  331.99002729881545         Poor  \n23048   809.5836221743716         Poor  \n23232   468.8529757445841         Poor  \n23293   450.3802445291475         Good  \n\n[94 rows x 28 columns]",
      "text/html": "<div>\n<style scoped>\n    .dataframe tbody tr th:only-of-type {\n        vertical-align: middle;\n    }\n\n    .dataframe tbody tr th {\n        vertical-align: top;\n    }\n\n    .dataframe thead th {\n        text-align: right;\n    }\n</style>\n<table border=\"1\" class=\"dataframe\">\n  <thead>\n    <tr style=\"text-align: right;\">\n      <th></th>\n      <th>ID</th>\n      <th>Customer_ID</th>\n      <th>Month</th>\n      <th>Name</th>\n      <th>Age</th>\n      <th>SSN</th>\n      <th>Occupation</th>\n      <th>Annual_Income</th>\n      <th>Monthly_Inhand_Salary</th>\n      <th>Num_Bank_Accounts</th>\n      <th>...</th>\n      <th>Credit_Mix</th>\n      <th>Outstanding_Debt</th>\n      <th>Credit_Utilization_Ratio</th>\n      <th>Credit_History_Age</th>\n      <th>Payment_of_Min_Amount</th>\n      <th>Total_EMI_per_month</th>\n      <th>Amount_invested_monthly</th>\n      <th>Payment_Behaviour</th>\n      <th>Monthly_Balance</th>\n      <th>Credit_Score</th>\n    </tr>\n  </thead>\n  <tbody>\n    <tr>\n      <th>68</th>\n      <td>0x1a924</td>\n      <td>CUS_0x804d</td>\n      <td>March</td>\n      <td>Johni</td>\n      <td>23</td>\n      <td>201-52-2520</td>\n      <td>Architect</td>\n      <td>21897.50</td>\n      <td>1986.79</td>\n      <td>1.0</td>\n      <td>...</td>\n      <td>Good</td>\n      <td>630.68</td>\n      <td>33.305599</td>\n      <td>NaN</td>\n      <td>No</td>\n      <td>15.487464</td>\n      <td>33.43919969692089</td>\n      <td>High_spent_Large_value_payments</td>\n      <td>389.75254484189935</td>\n      <td>Good</td>\n    </tr>\n    <tr>\n      <th>669</th>\n      <td>0x3af2</td>\n      <td>CUS_0x74d5</td>\n      <td>January</td>\n      <td>Mortimerz</td>\n      <td>25</td>\n      <td>432-94-4099</td>\n      <td>Lawyer</td>\n      <td>20821.80</td>\n      <td>2010.15</td>\n      <td>5.0</td>\n      <td>...</td>\n      <td>Good</td>\n      <td>1485.97</td>\n      <td>36.990987</td>\n      <td>26 Years and 9 Months</td>\n      <td>NM</td>\n      <td>21.189697</td>\n      <td>__10000__</td>\n      <td>Low_spent_Small_value_payments</td>\n      <td>242.5757749251817</td>\n      <td>Poor</td>\n    </tr>\n    <tr>\n      <th>854</th>\n      <td>0x1f164</td>\n      <td>CUS_0x990</td>\n      <td>July</td>\n      <td>Dhanyai</td>\n      <td>19</td>\n      <td>655-92-9108</td>\n      <td>Developer</td>\n      <td>18937.61</td>\n      <td>1536.13</td>\n      <td>8.0</td>\n      <td>...</td>\n      <td>_</td>\n      <td>1306.3</td>\n      <td>31.886706</td>\n      <td>15 Years and 4 Months</td>\n      <td>Yes</td>\n      <td>80.208365</td>\n      <td>27.515445030870843</td>\n      <td>High_spent_Medium_value_payments</td>\n      <td>295.8896070880838</td>\n      <td>Poor</td>\n    </tr>\n    <tr>\n      <th>1125</th>\n      <td>0xcb26</td>\n      <td>CUS_0x6c27</td>\n      <td>May</td>\n      <td>Hideyukic</td>\n      <td>19</td>\n      <td>297-05-8610</td>\n      <td>Journalist</td>\n      <td>56797.38</td>\n      <td>4784.12</td>\n      <td>6.0</td>\n      <td>...</td>\n      <td>Standard</td>\n      <td>2279.72</td>\n      <td>37.030462</td>\n      <td>16 Years and 3 Months</td>\n      <td>Yes</td>\n      <td>141.721835</td>\n      <td>302.8541038952459</td>\n      <td>Low_spent_Large_value_payments</td>\n      <td>303.83556071656346</td>\n      <td>Poor</td>\n    </tr>\n    <tr>\n      <th>1525</th>\n      <td>0x236b</td>\n      <td>CUS_0x409e</td>\n      <td>February</td>\n      <td>James Pomfretu</td>\n      <td>23</td>\n      <td>088-38-3435</td>\n      <td>Manager</td>\n      <td>47275.96</td>\n      <td>4238.66</td>\n      <td>6.0</td>\n      <td>...</td>\n      <td>Good</td>\n      <td>302.1</td>\n      <td>34.883541</td>\n      <td>22 Years and 3 Months</td>\n      <td>No</td>\n      <td>121.928877</td>\n      <td>469.7323729838309</td>\n      <td>Low_spent_Small_value_payments</td>\n      <td>122.20508315395494</td>\n      <td>Good</td>\n    </tr>\n    <tr>\n      <th>...</th>\n      <td>...</td>\n      <td>...</td>\n      <td>...</td>\n      <td>...</td>\n      <td>...</td>\n      <td>...</td>\n      <td>...</td>\n      <td>...</td>\n      <td>...</td>\n      <td>...</td>\n      <td>...</td>\n      <td>...</td>\n      <td>...</td>\n      <td>...</td>\n      <td>...</td>\n      <td>...</td>\n      <td>...</td>\n      <td>...</td>\n      <td>...</td>\n      <td>...</td>\n      <td>...</td>\n    </tr>\n    <tr>\n      <th>21914</th>\n      <td>0x11f90</td>\n      <td>CUS_0x47fe</td>\n      <td>March</td>\n      <td>Egenterq</td>\n      <td>21</td>\n      <td>740-19-9586</td>\n      <td>NaN</td>\n      <td>7085.39</td>\n      <td>668.45</td>\n      <td>9.0</td>\n      <td>...</td>\n      <td>Bad</td>\n      <td>3988.68</td>\n      <td>35.074456</td>\n      <td>13 Years and 3 Months</td>\n      <td>Yes</td>\n      <td>25.989110</td>\n      <td>19.442465214926113</td>\n      <td>Low_spent_Medium_value_payments</td>\n      <td>301.4133414733218</td>\n      <td>Poor</td>\n    </tr>\n    <tr>\n      <th>22992</th>\n      <td>0x7f36</td>\n      <td>CUS_0x3475</td>\n      <td>May</td>\n      <td>NaN</td>\n      <td>27</td>\n      <td>271-20-5461</td>\n      <td>NaN</td>\n      <td>36783.38</td>\n      <td>3151.28</td>\n      <td>10.0</td>\n      <td>...</td>\n      <td>Bad</td>\n      <td>4555.72</td>\n      <td>27.449575</td>\n      <td>1 Years and 9 Months</td>\n      <td>Yes</td>\n      <td>33421.000000</td>\n      <td>124.78002159848414</td>\n      <td>Low_spent_Small_value_payments</td>\n      <td>331.99002729881545</td>\n      <td>Poor</td>\n    </tr>\n    <tr>\n      <th>23048</th>\n      <td>0x6cfd</td>\n      <td>CUS_0x1410</td>\n      <td>August</td>\n      <td>NaN</td>\n      <td>43</td>\n      <td>087-58-6247</td>\n      <td>Teacher</td>\n      <td>96882.93</td>\n      <td>8229.58</td>\n      <td>5.0</td>\n      <td>...</td>\n      <td>Good</td>\n      <td>355.41</td>\n      <td>27.312835</td>\n      <td>NaN</td>\n      <td>NM</td>\n      <td>73.173723</td>\n      <td>180.20040454139752</td>\n      <td>High_spent_Large_value_payments</td>\n      <td>809.5836221743716</td>\n      <td>Poor</td>\n    </tr>\n    <tr>\n      <th>23232</th>\n      <td>0x183ec</td>\n      <td>CUS_0x317e</td>\n      <td>March</td>\n      <td>Jennifery</td>\n      <td>18</td>\n      <td>527-06-4214</td>\n      <td>Mechanic</td>\n      <td>62008.35</td>\n      <td>5256.36</td>\n      <td>10.0</td>\n      <td>...</td>\n      <td>Standard</td>\n      <td>2360.12</td>\n      <td>38.523179</td>\n      <td>NaN</td>\n      <td>Yes</td>\n      <td>127.392147</td>\n      <td>179.39112720340634</td>\n      <td>High_spent_Medium_value_payments</td>\n      <td>468.8529757445841</td>\n      <td>Poor</td>\n    </tr>\n    <tr>\n      <th>23293</th>\n      <td>0x1a07a</td>\n      <td>CUS_0x67e2</td>\n      <td>May</td>\n      <td>Emilyg</td>\n      <td>17</td>\n      <td>438-69-8340</td>\n      <td>Entrepreneur</td>\n      <td>30195.47</td>\n      <td>2619.19</td>\n      <td>5.0</td>\n      <td>...</td>\n      <td>_</td>\n      <td>893.63</td>\n      <td>40.182993</td>\n      <td>26 Years and 9 Months</td>\n      <td>Yes</td>\n      <td>145.099934</td>\n      <td>66.0486721375192</td>\n      <td>High_spent_Large_value_payments</td>\n      <td>450.3802445291475</td>\n      <td>Good</td>\n    </tr>\n  </tbody>\n</table>\n<p>94 rows × 28 columns</p>\n</div>"
     },
     "execution_count": 296,
     "metadata": {},
     "output_type": "execute_result"
    }
   ],
   "source": [
    "# 查看 Num_of_Loan 大于等于 200 的行\n",
    "# 筛选条件\n",
    "condition = df['Num_of_Loan'] >= 200\n",
    "\n",
    "# 应用筛选条件并获取符合条件的行数据\n",
    "filtered_data = df[condition]\n",
    "\n",
    "filtered_data"
   ],
   "metadata": {
    "collapsed": false,
    "ExecuteTime": {
     "end_time": "2023-06-02T16:53:47.161073400Z",
     "start_time": "2023-06-02T16:53:47.135797Z"
    }
   }
  },
  {
   "cell_type": "code",
   "execution_count": 297,
   "outputs": [
    {
     "name": "stdout",
     "output_type": "stream",
     "text": [
      "Mode:\n",
      "0    2\n",
      "Name: Num_of_Loan, dtype: Int64\n",
      "Median:\n",
      "4.0\n"
     ]
    }
   ],
   "source": [
    "# 查看 Num_of_Loan 的中位数和众数\n",
    "# 获取列的众数\n",
    "mode = df['Num_of_Loan'].mode()\n",
    "print(\"Mode:\")\n",
    "print(mode)\n",
    "\n",
    "# 获取列的中位数\n",
    "median = df['Num_of_Loan'].median()\n",
    "print(\"Median:\")\n",
    "print(median)\n"
   ],
   "metadata": {
    "collapsed": false,
    "ExecuteTime": {
     "end_time": "2023-06-02T16:53:47.747082100Z",
     "start_time": "2023-06-02T16:53:47.739952500Z"
    }
   }
  },
  {
   "cell_type": "markdown",
   "source": [
    "### 9. Type_of_Loan\n"
   ],
   "metadata": {
    "collapsed": false
   }
  },
  {
   "cell_type": "code",
   "execution_count": 298,
   "outputs": [],
   "source": [
    "# Type_of_Loan"
   ],
   "metadata": {
    "collapsed": false,
    "ExecuteTime": {
     "end_time": "2023-06-02T16:53:48.481809100Z",
     "start_time": "2023-06-02T16:53:48.474408Z"
    }
   }
  },
  {
   "cell_type": "markdown",
   "source": [
    "### 10. Delay_from_due_date\n",
    "1.  从付款日期延迟的平均天数必须大于等于0 数据集中出现大量负数当作异常值处理，替换成NaN"
   ],
   "metadata": {
    "collapsed": false
   }
  },
  {
   "cell_type": "code",
   "execution_count": 299,
   "outputs": [],
   "source": [
    "# Delay_from_due_date\n",
    "\n",
    "# 将Delay_from_due_date中小于0值替换为NaN\n",
    "df['Delay_from_due_date'] = df['Delay_from_due_date'].where(df['Delay_from_due_date'] >= 0, np.nan)"
   ],
   "metadata": {
    "collapsed": false,
    "ExecuteTime": {
     "end_time": "2023-06-02T16:53:49.235261700Z",
     "start_time": "2023-06-02T16:53:49.225260700Z"
    }
   }
  },
  {
   "cell_type": "markdown",
   "source": [
    "### 11. Num_of_Delayed_Payment\n",
    "1. 延迟付款次数必须大于等于0 数据集中出现大量负数当作异常值处理，替换成NaN\n",
    "2. 将带有若干'_'的值去除所有'_'，保留数字"
   ],
   "metadata": {
    "collapsed": false
   }
  },
  {
   "cell_type": "code",
   "execution_count": 300,
   "outputs": [
    {
     "data": {
      "text/plain": "dtype('float64')"
     },
     "execution_count": 300,
     "metadata": {},
     "output_type": "execute_result"
    }
   ],
   "source": [
    "# Num_of_Delayed_Payment\n",
    "\n",
    "# 将 NaN 替换为 -1\n",
    "df['Num_of_Delayed_Payment'] = df['Num_of_Delayed_Payment'].fillna(-1)\n",
    "\n",
    "# 将Num_of_Delayed_Payment转化为String类型\n",
    "df['Num_of_Delayed_Payment'] = df['Num_of_Delayed_Payment'].astype(str)\n",
    "\n",
    "# Num_of_Delayed_Payment中的带'_'的值去除'_'\n",
    "df['Num_of_Delayed_Payment'] = df['Num_of_Delayed_Payment'].str.replace('_', '')\n",
    "\n",
    "# 将列的数据类型更改为整数\n",
    "df['Num_of_Delayed_Payment'] = df['Num_of_Delayed_Payment'].astype(int)\n",
    "\n",
    "# 将Num_of_Delayed_Payment中小于0值替换为NaN\n",
    "df['Num_of_Delayed_Payment'] = df['Num_of_Delayed_Payment'].where(df['Num_of_Delayed_Payment'] >= 0, np.nan)"
   ],
   "metadata": {
    "collapsed": false,
    "ExecuteTime": {
     "end_time": "2023-06-02T16:53:51.073441800Z",
     "start_time": "2023-06-02T16:53:51.031153400Z"
    }
   }
  },
  {
   "cell_type": "markdown",
   "source": [
    "### 12. Changed_Credit_Limit\n",
    "1. 将为'_'的值替换为NaN\n",
    "2. 检查数据发现所有数据绝对值都在100以内，不予处理\n",
    "3. 将数据类型转换为float（由于数据集中存在字符串由pandas读入类型为object）"
   ],
   "metadata": {
    "collapsed": false
   }
  },
  {
   "cell_type": "code",
   "execution_count": 301,
   "outputs": [],
   "source": [
    "# Changed_Credit_Limit\n",
    "df['Changed_Credit_Limit'] = df['Changed_Credit_Limit'].replace('_',np.nan)\n",
    "\n",
    "df['Changed_Credit_Limit'] = df['Changed_Credit_Limit'].astype(float)"
   ],
   "metadata": {
    "collapsed": false,
    "ExecuteTime": {
     "end_time": "2023-06-02T16:54:24.120447Z",
     "start_time": "2023-06-02T16:54:24.103351100Z"
    }
   }
  },
  {
   "cell_type": "markdown",
   "source": [
    "### 13. Num_Credit_Inquiries"
   ],
   "metadata": {
    "collapsed": false
   }
  },
  {
   "cell_type": "code",
   "execution_count": 302,
   "outputs": [],
   "source": [
    "# Num_Credit_Inquiries"
   ],
   "metadata": {
    "collapsed": false,
    "ExecuteTime": {
     "end_time": "2023-06-02T16:54:38.616210300Z",
     "start_time": "2023-06-02T16:54:38.606612100Z"
    }
   }
  },
  {
   "cell_type": "markdown",
   "source": [
    "### 14. Credit_Mix\n",
    "1. 将为'_'的值替换为NaN"
   ],
   "metadata": {
    "collapsed": false
   }
  },
  {
   "cell_type": "code",
   "execution_count": 303,
   "outputs": [],
   "source": [
    "# Credit_Mix\n",
    "\n",
    "df['Credit_Mix'] = df['Credit_Mix'].replace('_',np.nan)\n",
    "\n"
   ],
   "metadata": {
    "collapsed": false,
    "ExecuteTime": {
     "end_time": "2023-06-02T16:54:45.179392700Z",
     "start_time": "2023-06-02T16:54:45.167049900Z"
    }
   }
  },
  {
   "cell_type": "markdown",
   "source": [
    "### 15. Outstanding_Debt\n",
    "1. 将带有若干'_'的值去除所有'_'，保留数字\n",
    "2. 将数据类型转换为float（由于数据集中存在字符串由pandas读入类型为object）"
   ],
   "metadata": {
    "collapsed": false
   }
  },
  {
   "cell_type": "code",
   "execution_count": 304,
   "outputs": [],
   "source": [
    "# Outstanding_Debt\n",
    "\n",
    "# 将Outstanding_Debt转化为String类型\n",
    "df['Outstanding_Debt'] = df['Outstanding_Debt'].astype(str)\n",
    "\n",
    "# Outstanding_Debt中的带'_'的值去除'_'\n",
    "df['Outstanding_Debt'] = df['Outstanding_Debt'].str.replace('_', '')\n",
    "\n",
    "# 将列的数据类型更改为整数\n",
    "df['Outstanding_Debt'] = df['Outstanding_Debt'].astype(float)"
   ],
   "metadata": {
    "collapsed": false,
    "ExecuteTime": {
     "end_time": "2023-06-02T16:54:55.446145300Z",
     "start_time": "2023-06-02T16:54:55.415621200Z"
    }
   }
  },
  {
   "cell_type": "markdown",
   "source": [
    "### 16. Credit_Utilization_Ratio"
   ],
   "metadata": {
    "collapsed": false
   }
  },
  {
   "cell_type": "code",
   "execution_count": 305,
   "outputs": [],
   "source": [
    "# Credit_Utilization_Ratio"
   ],
   "metadata": {
    "collapsed": false,
    "ExecuteTime": {
     "end_time": "2023-06-02T16:54:57.048344300Z",
     "start_time": "2023-06-02T16:54:57.038344200Z"
    }
   }
  },
  {
   "cell_type": "markdown",
   "source": [
    "### 17. Credit_History_Age"
   ],
   "metadata": {
    "collapsed": false
   }
  },
  {
   "cell_type": "code",
   "execution_count": 306,
   "outputs": [],
   "source": [
    "# Credit_History_Age"
   ],
   "metadata": {
    "collapsed": false,
    "ExecuteTime": {
     "end_time": "2023-06-02T16:54:59.430882200Z",
     "start_time": "2023-06-02T16:54:59.417611800Z"
    }
   }
  },
  {
   "cell_type": "markdown",
   "source": [
    "### 18. Payment_of_Min_Amount"
   ],
   "metadata": {
    "collapsed": false
   }
  },
  {
   "cell_type": "code",
   "execution_count": 307,
   "outputs": [],
   "source": [
    "# Payment_of_Min_Amount"
   ],
   "metadata": {
    "collapsed": false,
    "ExecuteTime": {
     "end_time": "2023-06-02T16:55:00.406138400Z",
     "start_time": "2023-06-02T16:55:00.398974700Z"
    }
   }
  },
  {
   "cell_type": "markdown",
   "source": [
    "### 19. Total_EMI_per_month"
   ],
   "metadata": {
    "collapsed": false
   }
  },
  {
   "cell_type": "code",
   "execution_count": 308,
   "outputs": [],
   "source": [
    "# Total_EMI_per_month"
   ],
   "metadata": {
    "collapsed": false,
    "ExecuteTime": {
     "end_time": "2023-06-02T16:55:02.266262400Z",
     "start_time": "2023-06-02T16:55:02.257228700Z"
    }
   }
  },
  {
   "cell_type": "markdown",
   "source": [
    "### 20. Amount_invested_monthly\n",
    "1. 将'_10000_'替换为'10000'\n",
    "2. 将数据类型转换为float（由于数据集中存在字符串由pandas读入类型为object）"
   ],
   "metadata": {
    "collapsed": false
   }
  },
  {
   "cell_type": "code",
   "execution_count": 312,
   "outputs": [],
   "source": [
    "# Amount_invested_monthly\n",
    "\n",
    "df['Amount_invested_monthly'] = df['Amount_invested_monthly'].replace('__10000__','10000')\n",
    "\n",
    "df['Amount_invested_monthly'] = df['Amount_invested_monthly'].astype(float)"
   ],
   "metadata": {
    "collapsed": false,
    "ExecuteTime": {
     "end_time": "2023-06-02T16:56:37.882004300Z",
     "start_time": "2023-06-02T16:56:37.862003400Z"
    }
   }
  },
  {
   "cell_type": "markdown",
   "source": [
    "### 21. Payment_Behaviour\n",
    "1. 将'!@9#%8'转换为NaN"
   ],
   "metadata": {
    "collapsed": false
   }
  },
  {
   "cell_type": "code",
   "execution_count": 313,
   "outputs": [],
   "source": [
    "# Payment_Behaviour\n",
    "\n",
    "df['Payment_Behaviour'] = df['Payment_Behaviour'].replace('!@9#%8',np.nan)"
   ],
   "metadata": {
    "collapsed": false,
    "ExecuteTime": {
     "end_time": "2023-06-02T16:57:01.072555600Z",
     "start_time": "2023-06-02T16:57:01.065553900Z"
    }
   }
  },
  {
   "cell_type": "markdown",
   "source": [
    "### 22. Monthly_Balance\n",
    "1. 将'__-333333333333333333333333333__'转换为NaN\n",
    "2. 将数据类型转换为float（由于数据集中存在字符串由pandas读入类型为object）"
   ],
   "metadata": {
    "collapsed": false
   }
  },
  {
   "cell_type": "code",
   "execution_count": 314,
   "outputs": [],
   "source": [
    "# Monthly_Balance\n",
    "\n",
    "df['Monthly_Balance'] = df['Monthly_Balance'].replace('__-333333333333333333333333333__',np.nan)\n",
    "\n",
    "df['Monthly_Balance'] = df['Monthly_Balance'].astype(float)"
   ],
   "metadata": {
    "collapsed": false,
    "ExecuteTime": {
     "end_time": "2023-06-02T16:57:04.327879900Z",
     "start_time": "2023-06-02T16:57:04.303923300Z"
    }
   }
  },
  {
   "cell_type": "markdown",
   "source": [
    "### 23. Credit_Score"
   ],
   "metadata": {
    "collapsed": false
   }
  },
  {
   "cell_type": "code",
   "execution_count": 315,
   "outputs": [],
   "source": [
    "# Credit_Score"
   ],
   "metadata": {
    "collapsed": false,
    "ExecuteTime": {
     "end_time": "2023-06-02T16:57:11.264075Z",
     "start_time": "2023-06-02T16:57:11.257540100Z"
    }
   }
  },
  {
   "cell_type": "code",
   "execution_count": 316,
   "outputs": [
    {
     "data": {
      "text/plain": "                          Total   Percent\nCredit_Mix                 4779  0.204117\nMonthly_Inhand_Salary      3581  0.152949\nName                       2394  0.102251\nType_of_Loan               2394  0.102251\nCredit_History_Age         2143  0.091530\nNum_of_Delayed_Payment     1829  0.078119\nPayment_Behaviour          1764  0.075343\nOccupation                 1638  0.069961\nAmount_invested_monthly    1109  0.047367\nNum_of_Loan                 965  0.041216\nAge                         672  0.028702\nChanged_Credit_Limit        512  0.021868\nNum_Credit_Inquiries        438  0.018708\nMonthly_Balance             289  0.012344\nDelay_from_due_date         201  0.008585\nNum_Bank_Accounts             9  0.000384\nPayment_of_Min_Amount         0  0.000000\nTotal_EMI_per_month           0  0.000000\nCredit_Utilization_Ratio      0  0.000000\nID                            0  0.000000\nOutstanding_Debt              0  0.000000\nCustomer_ID                   0  0.000000\nInterest_Rate                 0  0.000000\nNum_Credit_Card               0  0.000000\nAnnual_Income                 0  0.000000\nSSN                           0  0.000000\nMonth                         0  0.000000\nCredit_Score                  0  0.000000",
      "text/html": "<div>\n<style scoped>\n    .dataframe tbody tr th:only-of-type {\n        vertical-align: middle;\n    }\n\n    .dataframe tbody tr th {\n        vertical-align: top;\n    }\n\n    .dataframe thead th {\n        text-align: right;\n    }\n</style>\n<table border=\"1\" class=\"dataframe\">\n  <thead>\n    <tr style=\"text-align: right;\">\n      <th></th>\n      <th>Total</th>\n      <th>Percent</th>\n    </tr>\n  </thead>\n  <tbody>\n    <tr>\n      <th>Credit_Mix</th>\n      <td>4779</td>\n      <td>0.204117</td>\n    </tr>\n    <tr>\n      <th>Monthly_Inhand_Salary</th>\n      <td>3581</td>\n      <td>0.152949</td>\n    </tr>\n    <tr>\n      <th>Name</th>\n      <td>2394</td>\n      <td>0.102251</td>\n    </tr>\n    <tr>\n      <th>Type_of_Loan</th>\n      <td>2394</td>\n      <td>0.102251</td>\n    </tr>\n    <tr>\n      <th>Credit_History_Age</th>\n      <td>2143</td>\n      <td>0.091530</td>\n    </tr>\n    <tr>\n      <th>Num_of_Delayed_Payment</th>\n      <td>1829</td>\n      <td>0.078119</td>\n    </tr>\n    <tr>\n      <th>Payment_Behaviour</th>\n      <td>1764</td>\n      <td>0.075343</td>\n    </tr>\n    <tr>\n      <th>Occupation</th>\n      <td>1638</td>\n      <td>0.069961</td>\n    </tr>\n    <tr>\n      <th>Amount_invested_monthly</th>\n      <td>1109</td>\n      <td>0.047367</td>\n    </tr>\n    <tr>\n      <th>Num_of_Loan</th>\n      <td>965</td>\n      <td>0.041216</td>\n    </tr>\n    <tr>\n      <th>Age</th>\n      <td>672</td>\n      <td>0.028702</td>\n    </tr>\n    <tr>\n      <th>Changed_Credit_Limit</th>\n      <td>512</td>\n      <td>0.021868</td>\n    </tr>\n    <tr>\n      <th>Num_Credit_Inquiries</th>\n      <td>438</td>\n      <td>0.018708</td>\n    </tr>\n    <tr>\n      <th>Monthly_Balance</th>\n      <td>289</td>\n      <td>0.012344</td>\n    </tr>\n    <tr>\n      <th>Delay_from_due_date</th>\n      <td>201</td>\n      <td>0.008585</td>\n    </tr>\n    <tr>\n      <th>Num_Bank_Accounts</th>\n      <td>9</td>\n      <td>0.000384</td>\n    </tr>\n    <tr>\n      <th>Payment_of_Min_Amount</th>\n      <td>0</td>\n      <td>0.000000</td>\n    </tr>\n    <tr>\n      <th>Total_EMI_per_month</th>\n      <td>0</td>\n      <td>0.000000</td>\n    </tr>\n    <tr>\n      <th>Credit_Utilization_Ratio</th>\n      <td>0</td>\n      <td>0.000000</td>\n    </tr>\n    <tr>\n      <th>ID</th>\n      <td>0</td>\n      <td>0.000000</td>\n    </tr>\n    <tr>\n      <th>Outstanding_Debt</th>\n      <td>0</td>\n      <td>0.000000</td>\n    </tr>\n    <tr>\n      <th>Customer_ID</th>\n      <td>0</td>\n      <td>0.000000</td>\n    </tr>\n    <tr>\n      <th>Interest_Rate</th>\n      <td>0</td>\n      <td>0.000000</td>\n    </tr>\n    <tr>\n      <th>Num_Credit_Card</th>\n      <td>0</td>\n      <td>0.000000</td>\n    </tr>\n    <tr>\n      <th>Annual_Income</th>\n      <td>0</td>\n      <td>0.000000</td>\n    </tr>\n    <tr>\n      <th>SSN</th>\n      <td>0</td>\n      <td>0.000000</td>\n    </tr>\n    <tr>\n      <th>Month</th>\n      <td>0</td>\n      <td>0.000000</td>\n    </tr>\n    <tr>\n      <th>Credit_Score</th>\n      <td>0</td>\n      <td>0.000000</td>\n    </tr>\n  </tbody>\n</table>\n</div>"
     },
     "execution_count": 316,
     "metadata": {},
     "output_type": "execute_result"
    }
   ],
   "source": [
    "total = df.isnull().sum().sort_values(ascending = False)\n",
    "percent = (df.isnull().sum() / df.isnull().count()).sort_values(ascending = False)\n",
    "missing_data = pd.concat([total,percent],axis = 1,keys = ['Total','Percent'])\n",
    "missing_data"
   ],
   "metadata": {
    "collapsed": false,
    "ExecuteTime": {
     "end_time": "2023-06-02T16:57:15.720738700Z",
     "start_time": "2023-06-02T16:57:15.614036900Z"
    }
   }
  },
  {
   "cell_type": "code",
   "execution_count": 317,
   "outputs": [
    {
     "name": "stdout",
     "output_type": "stream",
     "text": [
      "<class 'pandas.core.frame.DataFrame'>\n",
      "RangeIndex: 23413 entries, 0 to 23412\n",
      "Data columns (total 28 columns):\n",
      " #   Column                    Non-Null Count  Dtype  \n",
      "---  ------                    --------------  -----  \n",
      " 0   ID                        23413 non-null  object \n",
      " 1   Customer_ID               23413 non-null  object \n",
      " 2   Month                     23413 non-null  object \n",
      " 3   Name                      21019 non-null  object \n",
      " 4   Age                       22741 non-null  Int64  \n",
      " 5   SSN                       23413 non-null  object \n",
      " 6   Occupation                21775 non-null  object \n",
      " 7   Annual_Income             23413 non-null  float64\n",
      " 8   Monthly_Inhand_Salary     19832 non-null  float64\n",
      " 9   Num_Bank_Accounts         23404 non-null  float64\n",
      " 10  Num_Credit_Card           23413 non-null  int64  \n",
      " 11  Interest_Rate             23413 non-null  int64  \n",
      " 12  Num_of_Loan               22448 non-null  Int64  \n",
      " 13  Type_of_Loan              21019 non-null  object \n",
      " 14  Delay_from_due_date       23212 non-null  float64\n",
      " 15  Num_of_Delayed_Payment    21584 non-null  float64\n",
      " 16  Changed_Credit_Limit      22901 non-null  float64\n",
      " 17  Num_Credit_Inquiries      22975 non-null  float64\n",
      " 18  Credit_Mix                18634 non-null  object \n",
      " 19  Outstanding_Debt          23413 non-null  float64\n",
      " 20  Credit_Utilization_Ratio  23413 non-null  float64\n",
      " 21  Credit_History_Age        21270 non-null  object \n",
      " 22  Payment_of_Min_Amount     23413 non-null  object \n",
      " 23  Total_EMI_per_month       23413 non-null  float64\n",
      " 24  Amount_invested_monthly   22304 non-null  float64\n",
      " 25  Payment_Behaviour         21649 non-null  object \n",
      " 26  Monthly_Balance           23124 non-null  float64\n",
      " 27  Credit_Score              23413 non-null  object \n",
      "dtypes: Int64(2), float64(12), int64(2), object(12)\n",
      "memory usage: 5.0+ MB\n"
     ]
    }
   ],
   "source": [
    "df.info()"
   ],
   "metadata": {
    "collapsed": false,
    "ExecuteTime": {
     "end_time": "2023-06-02T16:57:16.445235200Z",
     "start_time": "2023-06-02T16:57:16.412227500Z"
    }
   }
  },
  {
   "cell_type": "code",
   "execution_count": 318,
   "outputs": [
    {
     "data": {
      "text/plain": "            ID Customer_ID    Month           Name  Age          SSN  \\\n0       0x2184  CUS_0xab00     July          Markx   18  468-20-7719   \n1      0x196a2  CUS_0x5fe0      May    Erwin Sebae   31  032-10-6627   \n2      0x1e96c  CUS_0xc301     July            NaN   37  169-93-9953   \n3       0x1b8a  CUS_0x1288  January        Taylorq   33  609-85-2725   \n4      0x24b9d   CUS_0x899    April       Klaymanm   18  797-96-0406   \n...        ...         ...      ...            ...  ...          ...   \n23408  0x18db8  CUS_0x269d    March          Lukef   38  415-10-2620   \n23409  0x1304e  CUS_0x8e50      May  Sinead Carewp   37  052-30-0753   \n23410   0x48f0  CUS_0x62e9     July       Woodallf   33  678-34-4743   \n23411   0x1ff8  CUS_0x3ef5     July            NaN   32  259-09-9023   \n23412  0x2127a  CUS_0x2998      May            NaN   41  586-59-6353   \n\n          Occupation  Annual_Income  Monthly_Inhand_Salary  Num_Bank_Accounts  \\\n0            Manager       31633.54                2930.13                1.0   \n1           Mechanic       33446.44                    NaN                6.0   \n2           Musician       21212.42                1910.70                1.0   \n3             Doctor       60938.13                5163.18               10.0   \n4         Journalist       73057.16                5998.10                4.0   \n...              ...            ...                    ...                ...   \n23408  Media_Manager       57810.68                4896.56                7.0   \n23409       Musician       15597.31                1456.78                8.0   \n23410        Teacher      179948.84               14836.74                0.0   \n23411         Doctor        7821.24                 468.77                8.0   \n23412         Lawyer       20889.65                1710.80                6.0   \n\n       ...  Credit_Mix  Outstanding_Debt  Credit_Utilization_Ratio  \\\n0      ...        Good            846.45                 37.934665   \n1      ...         NaN           2953.68                 37.895848   \n2      ...         NaN            479.83                 36.491037   \n3      ...         Bad           3947.24                 21.744884   \n4      ...    Standard           2569.09                 27.350833   \n...    ...         ...               ...                       ...   \n23408  ...        Good           1419.99                 27.141606   \n23409  ...    Standard            741.46                 32.418000   \n23410  ...        Good           1104.31                 31.508604   \n23411  ...         Bad           2924.76                 33.575214   \n23412  ...         NaN           4323.55                 30.045846   \n\n          Credit_History_Age  Payment_of_Min_Amount  Total_EMI_per_month  \\\n0      22 Years and 2 Months                     No            50.768440   \n1       9 Years and 7 Months                    Yes           133.355905   \n2      23 Years and 1 Months                     No            50.305036   \n3      4 Years and 10 Months                    Yes           378.304673   \n4       9 Years and 6 Months                    Yes            91.354188   \n...                      ...                    ...                  ...   \n23408  30 Years and 4 Months                     No           131.871482   \n23409   5 Years and 6 Months                    Yes            45.804440   \n23410  31 Years and 8 Months                     No           446.259347   \n23411  10 Years and 3 Months                    Yes            19.727923   \n23412   5 Years and 0 Months                    Yes            43.676463   \n\n       Amount_invested_monthly                 Payment_Behaviour  \\\n0                   275.759795   Low_spent_Medium_value_payments   \n1                    93.650442    Low_spent_Large_value_payments   \n2                   172.477693    Low_spent_Large_value_payments   \n3                   166.487676   High_spent_Small_value_payments   \n4                    66.232154  High_spent_Medium_value_payments   \n...                        ...                               ...   \n23408               416.933866    Low_spent_Small_value_payments   \n23409               142.100773   Low_spent_Medium_value_payments   \n23410             10000.000000    Low_spent_Large_value_payments   \n23411                20.269324   Low_spent_Medium_value_payments   \n23412               197.502352    Low_spent_Small_value_payments   \n\n      Monthly_Balance  Credit_Score  \n0          246.484598          Poor  \n1          348.813987          Poor  \n2          238.287438          Good  \n3          231.525401          Poor  \n4          692.223325          Poor  \n...               ...           ...  \n23408      230.850318          Good  \n23409      237.772370          Good  \n23410      309.497362          Poor  \n23411      286.879752          Poor  \n23412      219.901601          Poor  \n\n[23413 rows x 28 columns]",
      "text/html": "<div>\n<style scoped>\n    .dataframe tbody tr th:only-of-type {\n        vertical-align: middle;\n    }\n\n    .dataframe tbody tr th {\n        vertical-align: top;\n    }\n\n    .dataframe thead th {\n        text-align: right;\n    }\n</style>\n<table border=\"1\" class=\"dataframe\">\n  <thead>\n    <tr style=\"text-align: right;\">\n      <th></th>\n      <th>ID</th>\n      <th>Customer_ID</th>\n      <th>Month</th>\n      <th>Name</th>\n      <th>Age</th>\n      <th>SSN</th>\n      <th>Occupation</th>\n      <th>Annual_Income</th>\n      <th>Monthly_Inhand_Salary</th>\n      <th>Num_Bank_Accounts</th>\n      <th>...</th>\n      <th>Credit_Mix</th>\n      <th>Outstanding_Debt</th>\n      <th>Credit_Utilization_Ratio</th>\n      <th>Credit_History_Age</th>\n      <th>Payment_of_Min_Amount</th>\n      <th>Total_EMI_per_month</th>\n      <th>Amount_invested_monthly</th>\n      <th>Payment_Behaviour</th>\n      <th>Monthly_Balance</th>\n      <th>Credit_Score</th>\n    </tr>\n  </thead>\n  <tbody>\n    <tr>\n      <th>0</th>\n      <td>0x2184</td>\n      <td>CUS_0xab00</td>\n      <td>July</td>\n      <td>Markx</td>\n      <td>18</td>\n      <td>468-20-7719</td>\n      <td>Manager</td>\n      <td>31633.54</td>\n      <td>2930.13</td>\n      <td>1.0</td>\n      <td>...</td>\n      <td>Good</td>\n      <td>846.45</td>\n      <td>37.934665</td>\n      <td>22 Years and 2 Months</td>\n      <td>No</td>\n      <td>50.768440</td>\n      <td>275.759795</td>\n      <td>Low_spent_Medium_value_payments</td>\n      <td>246.484598</td>\n      <td>Poor</td>\n    </tr>\n    <tr>\n      <th>1</th>\n      <td>0x196a2</td>\n      <td>CUS_0x5fe0</td>\n      <td>May</td>\n      <td>Erwin Sebae</td>\n      <td>31</td>\n      <td>032-10-6627</td>\n      <td>Mechanic</td>\n      <td>33446.44</td>\n      <td>NaN</td>\n      <td>6.0</td>\n      <td>...</td>\n      <td>NaN</td>\n      <td>2953.68</td>\n      <td>37.895848</td>\n      <td>9 Years and 7 Months</td>\n      <td>Yes</td>\n      <td>133.355905</td>\n      <td>93.650442</td>\n      <td>Low_spent_Large_value_payments</td>\n      <td>348.813987</td>\n      <td>Poor</td>\n    </tr>\n    <tr>\n      <th>2</th>\n      <td>0x1e96c</td>\n      <td>CUS_0xc301</td>\n      <td>July</td>\n      <td>NaN</td>\n      <td>37</td>\n      <td>169-93-9953</td>\n      <td>Musician</td>\n      <td>21212.42</td>\n      <td>1910.70</td>\n      <td>1.0</td>\n      <td>...</td>\n      <td>NaN</td>\n      <td>479.83</td>\n      <td>36.491037</td>\n      <td>23 Years and 1 Months</td>\n      <td>No</td>\n      <td>50.305036</td>\n      <td>172.477693</td>\n      <td>Low_spent_Large_value_payments</td>\n      <td>238.287438</td>\n      <td>Good</td>\n    </tr>\n    <tr>\n      <th>3</th>\n      <td>0x1b8a</td>\n      <td>CUS_0x1288</td>\n      <td>January</td>\n      <td>Taylorq</td>\n      <td>33</td>\n      <td>609-85-2725</td>\n      <td>Doctor</td>\n      <td>60938.13</td>\n      <td>5163.18</td>\n      <td>10.0</td>\n      <td>...</td>\n      <td>Bad</td>\n      <td>3947.24</td>\n      <td>21.744884</td>\n      <td>4 Years and 10 Months</td>\n      <td>Yes</td>\n      <td>378.304673</td>\n      <td>166.487676</td>\n      <td>High_spent_Small_value_payments</td>\n      <td>231.525401</td>\n      <td>Poor</td>\n    </tr>\n    <tr>\n      <th>4</th>\n      <td>0x24b9d</td>\n      <td>CUS_0x899</td>\n      <td>April</td>\n      <td>Klaymanm</td>\n      <td>18</td>\n      <td>797-96-0406</td>\n      <td>Journalist</td>\n      <td>73057.16</td>\n      <td>5998.10</td>\n      <td>4.0</td>\n      <td>...</td>\n      <td>Standard</td>\n      <td>2569.09</td>\n      <td>27.350833</td>\n      <td>9 Years and 6 Months</td>\n      <td>Yes</td>\n      <td>91.354188</td>\n      <td>66.232154</td>\n      <td>High_spent_Medium_value_payments</td>\n      <td>692.223325</td>\n      <td>Poor</td>\n    </tr>\n    <tr>\n      <th>...</th>\n      <td>...</td>\n      <td>...</td>\n      <td>...</td>\n      <td>...</td>\n      <td>...</td>\n      <td>...</td>\n      <td>...</td>\n      <td>...</td>\n      <td>...</td>\n      <td>...</td>\n      <td>...</td>\n      <td>...</td>\n      <td>...</td>\n      <td>...</td>\n      <td>...</td>\n      <td>...</td>\n      <td>...</td>\n      <td>...</td>\n      <td>...</td>\n      <td>...</td>\n      <td>...</td>\n    </tr>\n    <tr>\n      <th>23408</th>\n      <td>0x18db8</td>\n      <td>CUS_0x269d</td>\n      <td>March</td>\n      <td>Lukef</td>\n      <td>38</td>\n      <td>415-10-2620</td>\n      <td>Media_Manager</td>\n      <td>57810.68</td>\n      <td>4896.56</td>\n      <td>7.0</td>\n      <td>...</td>\n      <td>Good</td>\n      <td>1419.99</td>\n      <td>27.141606</td>\n      <td>30 Years and 4 Months</td>\n      <td>No</td>\n      <td>131.871482</td>\n      <td>416.933866</td>\n      <td>Low_spent_Small_value_payments</td>\n      <td>230.850318</td>\n      <td>Good</td>\n    </tr>\n    <tr>\n      <th>23409</th>\n      <td>0x1304e</td>\n      <td>CUS_0x8e50</td>\n      <td>May</td>\n      <td>Sinead Carewp</td>\n      <td>37</td>\n      <td>052-30-0753</td>\n      <td>Musician</td>\n      <td>15597.31</td>\n      <td>1456.78</td>\n      <td>8.0</td>\n      <td>...</td>\n      <td>Standard</td>\n      <td>741.46</td>\n      <td>32.418000</td>\n      <td>5 Years and 6 Months</td>\n      <td>Yes</td>\n      <td>45.804440</td>\n      <td>142.100773</td>\n      <td>Low_spent_Medium_value_payments</td>\n      <td>237.772370</td>\n      <td>Good</td>\n    </tr>\n    <tr>\n      <th>23410</th>\n      <td>0x48f0</td>\n      <td>CUS_0x62e9</td>\n      <td>July</td>\n      <td>Woodallf</td>\n      <td>33</td>\n      <td>678-34-4743</td>\n      <td>Teacher</td>\n      <td>179948.84</td>\n      <td>14836.74</td>\n      <td>0.0</td>\n      <td>...</td>\n      <td>Good</td>\n      <td>1104.31</td>\n      <td>31.508604</td>\n      <td>31 Years and 8 Months</td>\n      <td>No</td>\n      <td>446.259347</td>\n      <td>10000.000000</td>\n      <td>Low_spent_Large_value_payments</td>\n      <td>309.497362</td>\n      <td>Poor</td>\n    </tr>\n    <tr>\n      <th>23411</th>\n      <td>0x1ff8</td>\n      <td>CUS_0x3ef5</td>\n      <td>July</td>\n      <td>NaN</td>\n      <td>32</td>\n      <td>259-09-9023</td>\n      <td>Doctor</td>\n      <td>7821.24</td>\n      <td>468.77</td>\n      <td>8.0</td>\n      <td>...</td>\n      <td>Bad</td>\n      <td>2924.76</td>\n      <td>33.575214</td>\n      <td>10 Years and 3 Months</td>\n      <td>Yes</td>\n      <td>19.727923</td>\n      <td>20.269324</td>\n      <td>Low_spent_Medium_value_payments</td>\n      <td>286.879752</td>\n      <td>Poor</td>\n    </tr>\n    <tr>\n      <th>23412</th>\n      <td>0x2127a</td>\n      <td>CUS_0x2998</td>\n      <td>May</td>\n      <td>NaN</td>\n      <td>41</td>\n      <td>586-59-6353</td>\n      <td>Lawyer</td>\n      <td>20889.65</td>\n      <td>1710.80</td>\n      <td>6.0</td>\n      <td>...</td>\n      <td>NaN</td>\n      <td>4323.55</td>\n      <td>30.045846</td>\n      <td>5 Years and 0 Months</td>\n      <td>Yes</td>\n      <td>43.676463</td>\n      <td>197.502352</td>\n      <td>Low_spent_Small_value_payments</td>\n      <td>219.901601</td>\n      <td>Poor</td>\n    </tr>\n  </tbody>\n</table>\n<p>23413 rows × 28 columns</p>\n</div>"
     },
     "execution_count": 318,
     "metadata": {},
     "output_type": "execute_result"
    }
   ],
   "source": [
    "df"
   ],
   "metadata": {
    "collapsed": false,
    "ExecuteTime": {
     "end_time": "2023-06-02T16:57:17.392433800Z",
     "start_time": "2023-06-02T16:57:17.362431500Z"
    }
   }
  },
  {
   "cell_type": "code",
   "execution_count": 326,
   "outputs": [
    {
     "ename": "TypeError",
     "evalue": "loop of ufunc does not support argument 0 of type float which has no callable sqrt method",
     "output_type": "error",
     "traceback": [
      "\u001B[1;31m---------------------------------------------------------------------------\u001B[0m",
      "\u001B[1;31mAttributeError\u001B[0m                            Traceback (most recent call last)",
      "\u001B[1;31mAttributeError\u001B[0m: 'float' object has no attribute 'sqrt'",
      "\nThe above exception was the direct cause of the following exception:\n",
      "\u001B[1;31mTypeError\u001B[0m                                 Traceback (most recent call last)",
      "Cell \u001B[1;32mIn[326], line 13\u001B[0m\n\u001B[0;32m     11\u001B[0m \u001B[38;5;66;03m# 循环调用绘制密度曲线的函数\u001B[39;00m\n\u001B[0;32m     12\u001B[0m \u001B[38;5;28;01mfor\u001B[39;00m col \u001B[38;5;129;01min\u001B[39;00m numeric_cols:\n\u001B[1;32m---> 13\u001B[0m     \u001B[43mplot_density\u001B[49m\u001B[43m(\u001B[49m\u001B[43mcol\u001B[49m\u001B[43m,\u001B[49m\u001B[43m \u001B[49m\u001B[43mdf\u001B[49m\u001B[43m)\u001B[49m\n\u001B[0;32m     14\u001B[0m plt\u001B[38;5;241m.\u001B[39mshow()\n",
      "Cell \u001B[1;32mIn[326], line 3\u001B[0m, in \u001B[0;36mplot_density\u001B[1;34m(column_name, data_frame)\u001B[0m\n\u001B[0;32m      1\u001B[0m \u001B[38;5;28;01mdef\u001B[39;00m \u001B[38;5;21mplot_density\u001B[39m(column_name, data_frame):\n\u001B[0;32m      2\u001B[0m     plt\u001B[38;5;241m.\u001B[39mfigure(figsize\u001B[38;5;241m=\u001B[39m(\u001B[38;5;241m8\u001B[39m, \u001B[38;5;241m6\u001B[39m))\n\u001B[1;32m----> 3\u001B[0m     \u001B[43msns\u001B[49m\u001B[38;5;241;43m.\u001B[39;49m\u001B[43mkdeplot\u001B[49m\u001B[43m(\u001B[49m\u001B[43mdata_frame\u001B[49m\u001B[43m[\u001B[49m\u001B[43mcolumn_name\u001B[49m\u001B[43m]\u001B[49m\u001B[38;5;241;43m.\u001B[39;49m\u001B[43mdropna\u001B[49m\u001B[43m(\u001B[49m\u001B[43m)\u001B[49m\u001B[43m)\u001B[49m\n\u001B[0;32m      4\u001B[0m     plt\u001B[38;5;241m.\u001B[39mxlabel(\u001B[38;5;124m'\u001B[39m\u001B[38;5;124mValue\u001B[39m\u001B[38;5;124m'\u001B[39m)\n\u001B[0;32m      5\u001B[0m     plt\u001B[38;5;241m.\u001B[39mylabel(\u001B[38;5;124m'\u001B[39m\u001B[38;5;124mDensity\u001B[39m\u001B[38;5;124m'\u001B[39m)\n",
      "File \u001B[1;32mF:\\anaconda3\\lib\\site-packages\\seaborn\\distributions.py:1717\u001B[0m, in \u001B[0;36mkdeplot\u001B[1;34m(data, x, y, hue, weights, palette, hue_order, hue_norm, color, fill, multiple, common_norm, common_grid, cumulative, bw_method, bw_adjust, warn_singular, log_scale, levels, thresh, gridsize, cut, clip, legend, cbar, cbar_ax, cbar_kws, ax, **kwargs)\u001B[0m\n\u001B[0;32m   1713\u001B[0m \u001B[38;5;28;01mif\u001B[39;00m p\u001B[38;5;241m.\u001B[39munivariate:\n\u001B[0;32m   1715\u001B[0m     plot_kws \u001B[38;5;241m=\u001B[39m kwargs\u001B[38;5;241m.\u001B[39mcopy()\n\u001B[1;32m-> 1717\u001B[0m     p\u001B[38;5;241m.\u001B[39mplot_univariate_density(\n\u001B[0;32m   1718\u001B[0m         multiple\u001B[38;5;241m=\u001B[39mmultiple,\n\u001B[0;32m   1719\u001B[0m         common_norm\u001B[38;5;241m=\u001B[39mcommon_norm,\n\u001B[0;32m   1720\u001B[0m         common_grid\u001B[38;5;241m=\u001B[39mcommon_grid,\n\u001B[0;32m   1721\u001B[0m         fill\u001B[38;5;241m=\u001B[39mfill,\n\u001B[0;32m   1722\u001B[0m         color\u001B[38;5;241m=\u001B[39mcolor,\n\u001B[0;32m   1723\u001B[0m         legend\u001B[38;5;241m=\u001B[39mlegend,\n\u001B[0;32m   1724\u001B[0m         warn_singular\u001B[38;5;241m=\u001B[39mwarn_singular,\n\u001B[0;32m   1725\u001B[0m         estimate_kws\u001B[38;5;241m=\u001B[39mestimate_kws,\n\u001B[0;32m   1726\u001B[0m         \u001B[38;5;241m*\u001B[39m\u001B[38;5;241m*\u001B[39mplot_kws,\n\u001B[0;32m   1727\u001B[0m     )\n\u001B[0;32m   1729\u001B[0m \u001B[38;5;28;01melse\u001B[39;00m:\n\u001B[0;32m   1731\u001B[0m     p\u001B[38;5;241m.\u001B[39mplot_bivariate_density(\n\u001B[0;32m   1732\u001B[0m         common_norm\u001B[38;5;241m=\u001B[39mcommon_norm,\n\u001B[0;32m   1733\u001B[0m         fill\u001B[38;5;241m=\u001B[39mfill,\n\u001B[1;32m   (...)\u001B[0m\n\u001B[0;32m   1743\u001B[0m         \u001B[38;5;241m*\u001B[39m\u001B[38;5;241m*\u001B[39mkwargs,\n\u001B[0;32m   1744\u001B[0m     )\n",
      "File \u001B[1;32mF:\\anaconda3\\lib\\site-packages\\seaborn\\distributions.py:937\u001B[0m, in \u001B[0;36m_DistributionPlotter.plot_univariate_density\u001B[1;34m(self, multiple, common_norm, common_grid, warn_singular, fill, color, legend, estimate_kws, **plot_kws)\u001B[0m\n\u001B[0;32m    934\u001B[0m log_scale \u001B[38;5;241m=\u001B[39m \u001B[38;5;28mself\u001B[39m\u001B[38;5;241m.\u001B[39m_log_scaled(\u001B[38;5;28mself\u001B[39m\u001B[38;5;241m.\u001B[39mdata_variable)\n\u001B[0;32m    936\u001B[0m \u001B[38;5;66;03m# Do the computation\u001B[39;00m\n\u001B[1;32m--> 937\u001B[0m densities \u001B[38;5;241m=\u001B[39m \u001B[38;5;28;43mself\u001B[39;49m\u001B[38;5;241;43m.\u001B[39;49m\u001B[43m_compute_univariate_density\u001B[49m\u001B[43m(\u001B[49m\n\u001B[0;32m    938\u001B[0m \u001B[43m    \u001B[49m\u001B[38;5;28;43mself\u001B[39;49m\u001B[38;5;241;43m.\u001B[39;49m\u001B[43mdata_variable\u001B[49m\u001B[43m,\u001B[49m\n\u001B[0;32m    939\u001B[0m \u001B[43m    \u001B[49m\u001B[43mcommon_norm\u001B[49m\u001B[43m,\u001B[49m\n\u001B[0;32m    940\u001B[0m \u001B[43m    \u001B[49m\u001B[43mcommon_grid\u001B[49m\u001B[43m,\u001B[49m\n\u001B[0;32m    941\u001B[0m \u001B[43m    \u001B[49m\u001B[43mestimate_kws\u001B[49m\u001B[43m,\u001B[49m\n\u001B[0;32m    942\u001B[0m \u001B[43m    \u001B[49m\u001B[43mlog_scale\u001B[49m\u001B[43m,\u001B[49m\n\u001B[0;32m    943\u001B[0m \u001B[43m    \u001B[49m\u001B[43mwarn_singular\u001B[49m\u001B[43m,\u001B[49m\n\u001B[0;32m    944\u001B[0m \u001B[43m\u001B[49m\u001B[43m)\u001B[49m\n\u001B[0;32m    946\u001B[0m \u001B[38;5;66;03m# Adjust densities based on the `multiple` rule\u001B[39;00m\n\u001B[0;32m    947\u001B[0m densities, baselines \u001B[38;5;241m=\u001B[39m \u001B[38;5;28mself\u001B[39m\u001B[38;5;241m.\u001B[39m_resolve_multiple(densities, multiple)\n",
      "File \u001B[1;32mF:\\anaconda3\\lib\\site-packages\\seaborn\\distributions.py:349\u001B[0m, in \u001B[0;36m_DistributionPlotter._compute_univariate_density\u001B[1;34m(self, data_variable, common_norm, common_grid, estimate_kws, log_scale, warn_singular)\u001B[0m\n\u001B[0;32m    345\u001B[0m \u001B[38;5;28;01mtry\u001B[39;00m:\n\u001B[0;32m    346\u001B[0m     \u001B[38;5;28;01mif\u001B[39;00m \u001B[38;5;129;01mnot\u001B[39;00m singular:\n\u001B[0;32m    347\u001B[0m         \u001B[38;5;66;03m# Convoluted approach needed because numerical failures\u001B[39;00m\n\u001B[0;32m    348\u001B[0m         \u001B[38;5;66;03m# can manifest in a few different ways.\u001B[39;00m\n\u001B[1;32m--> 349\u001B[0m         density, support \u001B[38;5;241m=\u001B[39m \u001B[43mestimator\u001B[49m\u001B[43m(\u001B[49m\u001B[43mobservations\u001B[49m\u001B[43m,\u001B[49m\u001B[43m \u001B[49m\u001B[43mweights\u001B[49m\u001B[38;5;241;43m=\u001B[39;49m\u001B[43mweights\u001B[49m\u001B[43m)\u001B[49m\n\u001B[0;32m    350\u001B[0m \u001B[38;5;28;01mexcept\u001B[39;00m np\u001B[38;5;241m.\u001B[39mlinalg\u001B[38;5;241m.\u001B[39mLinAlgError:\n\u001B[0;32m    351\u001B[0m     singular \u001B[38;5;241m=\u001B[39m \u001B[38;5;28;01mTrue\u001B[39;00m\n",
      "File \u001B[1;32mF:\\anaconda3\\lib\\site-packages\\seaborn\\_statistics.py:192\u001B[0m, in \u001B[0;36mKDE.__call__\u001B[1;34m(self, x1, x2, weights)\u001B[0m\n\u001B[0;32m    190\u001B[0m \u001B[38;5;124;03m\"\"\"Fit and evaluate on univariate or bivariate data.\"\"\"\u001B[39;00m\n\u001B[0;32m    191\u001B[0m \u001B[38;5;28;01mif\u001B[39;00m x2 \u001B[38;5;129;01mis\u001B[39;00m \u001B[38;5;28;01mNone\u001B[39;00m:\n\u001B[1;32m--> 192\u001B[0m     \u001B[38;5;28;01mreturn\u001B[39;00m \u001B[38;5;28;43mself\u001B[39;49m\u001B[38;5;241;43m.\u001B[39;49m\u001B[43m_eval_univariate\u001B[49m\u001B[43m(\u001B[49m\u001B[43mx1\u001B[49m\u001B[43m,\u001B[49m\u001B[43m \u001B[49m\u001B[43mweights\u001B[49m\u001B[43m)\u001B[49m\n\u001B[0;32m    193\u001B[0m \u001B[38;5;28;01melse\u001B[39;00m:\n\u001B[0;32m    194\u001B[0m     \u001B[38;5;28;01mreturn\u001B[39;00m \u001B[38;5;28mself\u001B[39m\u001B[38;5;241m.\u001B[39m_eval_bivariate(x1, x2, weights)\n",
      "File \u001B[1;32mF:\\anaconda3\\lib\\site-packages\\seaborn\\_statistics.py:151\u001B[0m, in \u001B[0;36mKDE._eval_univariate\u001B[1;34m(self, x, weights)\u001B[0m\n\u001B[0;32m    149\u001B[0m support \u001B[38;5;241m=\u001B[39m \u001B[38;5;28mself\u001B[39m\u001B[38;5;241m.\u001B[39msupport\n\u001B[0;32m    150\u001B[0m \u001B[38;5;28;01mif\u001B[39;00m support \u001B[38;5;129;01mis\u001B[39;00m \u001B[38;5;28;01mNone\u001B[39;00m:\n\u001B[1;32m--> 151\u001B[0m     support \u001B[38;5;241m=\u001B[39m \u001B[38;5;28;43mself\u001B[39;49m\u001B[38;5;241;43m.\u001B[39;49m\u001B[43mdefine_support\u001B[49m\u001B[43m(\u001B[49m\u001B[43mx\u001B[49m\u001B[43m,\u001B[49m\u001B[43m \u001B[49m\u001B[43mcache\u001B[49m\u001B[38;5;241;43m=\u001B[39;49m\u001B[38;5;28;43;01mFalse\u001B[39;49;00m\u001B[43m)\u001B[49m\n\u001B[0;32m    153\u001B[0m kde \u001B[38;5;241m=\u001B[39m \u001B[38;5;28mself\u001B[39m\u001B[38;5;241m.\u001B[39m_fit(x, weights)\n\u001B[0;32m    155\u001B[0m \u001B[38;5;28;01mif\u001B[39;00m \u001B[38;5;28mself\u001B[39m\u001B[38;5;241m.\u001B[39mcumulative:\n",
      "File \u001B[1;32mF:\\anaconda3\\lib\\site-packages\\seaborn\\_statistics.py:127\u001B[0m, in \u001B[0;36mKDE.define_support\u001B[1;34m(self, x1, x2, weights, cache)\u001B[0m\n\u001B[0;32m    125\u001B[0m \u001B[38;5;124;03m\"\"\"Create the evaluation grid for a given data set.\"\"\"\u001B[39;00m\n\u001B[0;32m    126\u001B[0m \u001B[38;5;28;01mif\u001B[39;00m x2 \u001B[38;5;129;01mis\u001B[39;00m \u001B[38;5;28;01mNone\u001B[39;00m:\n\u001B[1;32m--> 127\u001B[0m     support \u001B[38;5;241m=\u001B[39m \u001B[38;5;28;43mself\u001B[39;49m\u001B[38;5;241;43m.\u001B[39;49m\u001B[43m_define_support_univariate\u001B[49m\u001B[43m(\u001B[49m\u001B[43mx1\u001B[49m\u001B[43m,\u001B[49m\u001B[43m \u001B[49m\u001B[43mweights\u001B[49m\u001B[43m)\u001B[49m\n\u001B[0;32m    128\u001B[0m \u001B[38;5;28;01melse\u001B[39;00m:\n\u001B[0;32m    129\u001B[0m     support \u001B[38;5;241m=\u001B[39m \u001B[38;5;28mself\u001B[39m\u001B[38;5;241m.\u001B[39m_define_support_bivariate(x1, x2, weights)\n",
      "File \u001B[1;32mF:\\anaconda3\\lib\\site-packages\\seaborn\\_statistics.py:100\u001B[0m, in \u001B[0;36mKDE._define_support_univariate\u001B[1;34m(self, x, weights)\u001B[0m\n\u001B[0;32m     98\u001B[0m \u001B[38;5;124;03m\"\"\"Create a 1D grid of evaluation points.\"\"\"\u001B[39;00m\n\u001B[0;32m     99\u001B[0m kde \u001B[38;5;241m=\u001B[39m \u001B[38;5;28mself\u001B[39m\u001B[38;5;241m.\u001B[39m_fit(x, weights)\n\u001B[1;32m--> 100\u001B[0m bw \u001B[38;5;241m=\u001B[39m \u001B[43mnp\u001B[49m\u001B[38;5;241;43m.\u001B[39;49m\u001B[43msqrt\u001B[49m\u001B[43m(\u001B[49m\u001B[43mkde\u001B[49m\u001B[38;5;241;43m.\u001B[39;49m\u001B[43mcovariance\u001B[49m\u001B[38;5;241;43m.\u001B[39;49m\u001B[43msqueeze\u001B[49m\u001B[43m(\u001B[49m\u001B[43m)\u001B[49m\u001B[43m)\u001B[49m\n\u001B[0;32m    101\u001B[0m grid \u001B[38;5;241m=\u001B[39m \u001B[38;5;28mself\u001B[39m\u001B[38;5;241m.\u001B[39m_define_support_grid(\n\u001B[0;32m    102\u001B[0m     x, bw, \u001B[38;5;28mself\u001B[39m\u001B[38;5;241m.\u001B[39mcut, \u001B[38;5;28mself\u001B[39m\u001B[38;5;241m.\u001B[39mclip, \u001B[38;5;28mself\u001B[39m\u001B[38;5;241m.\u001B[39mgridsize\n\u001B[0;32m    103\u001B[0m )\n\u001B[0;32m    104\u001B[0m \u001B[38;5;28;01mreturn\u001B[39;00m grid\n",
      "\u001B[1;31mTypeError\u001B[0m: loop of ufunc does not support argument 0 of type float which has no callable sqrt method"
     ]
    }
   ],
   "source": [
    "def plot_density(column_name, data_frame):\n",
    "    plt.figure(figsize=(8, 6))\n",
    "    sns.kdeplot(data_frame[column_name].dropna())\n",
    "    plt.xlabel('Value')\n",
    "    plt.ylabel('Density')\n",
    "    plt.title(f'Density Plot of {column_name}')\n",
    "\n",
    "# 筛选出 int 和 float 类型的列\n",
    "numeric_cols = df.select_dtypes(include=['int', 'float']).columns\n",
    "\n",
    "# 循环调用绘制密度曲线的函数\n",
    "for col in numeric_cols:\n",
    "    plot_density(col, df)\n",
    "plt.show()"
   ],
   "metadata": {
    "collapsed": false,
    "ExecuteTime": {
     "end_time": "2023-06-02T17:24:11.466597400Z",
     "start_time": "2023-06-02T17:24:11.336178800Z"
    }
   }
  },
  {
   "cell_type": "code",
   "execution_count": 327,
   "outputs": [],
   "source": [
    "def plot_histogram_without_nan(column_name, data_frame):\n",
    "    plt.figure(figsize=(8, 6))\n",
    "    sns.histplot(data_frame[column_name].dropna(), kde=False)\n",
    "    plt.xlabel('Value')\n",
    "    plt.ylabel('Count')\n",
    "    plt.title(f'Histogram of {column_name}')\n",
    "    plt.show()"
   ],
   "metadata": {
    "collapsed": false,
    "ExecuteTime": {
     "end_time": "2023-06-02T17:24:32.923056300Z",
     "start_time": "2023-06-02T17:24:32.893548400Z"
    }
   }
  },
  {
   "cell_type": "code",
   "execution_count": 328,
   "outputs": [
    {
     "name": "stderr",
     "output_type": "stream",
     "text": [
      "C:\\Users\\tanlei\\AppData\\Local\\Temp\\ipykernel_12740\\2351048688.py:7: UserWarning: Matplotlib is currently using module://matplotlib_inline.backend_inline, which is a non-GUI backend, so cannot show the figure.\n",
      "  plt.show()\n",
      "C:\\Users\\tanlei\\AppData\\Local\\Temp\\ipykernel_12740\\2351048688.py:7: UserWarning: Matplotlib is currently using module://matplotlib_inline.backend_inline, which is a non-GUI backend, so cannot show the figure.\n",
      "  plt.show()\n",
      "C:\\Users\\tanlei\\AppData\\Local\\Temp\\ipykernel_12740\\2351048688.py:7: UserWarning: Matplotlib is currently using module://matplotlib_inline.backend_inline, which is a non-GUI backend, so cannot show the figure.\n",
      "  plt.show()\n",
      "C:\\Users\\tanlei\\AppData\\Local\\Temp\\ipykernel_12740\\2351048688.py:7: UserWarning: Matplotlib is currently using module://matplotlib_inline.backend_inline, which is a non-GUI backend, so cannot show the figure.\n",
      "  plt.show()\n",
      "C:\\Users\\tanlei\\AppData\\Local\\Temp\\ipykernel_12740\\2351048688.py:7: UserWarning: Matplotlib is currently using module://matplotlib_inline.backend_inline, which is a non-GUI backend, so cannot show the figure.\n",
      "  plt.show()\n",
      "C:\\Users\\tanlei\\AppData\\Local\\Temp\\ipykernel_12740\\2351048688.py:7: UserWarning: Matplotlib is currently using module://matplotlib_inline.backend_inline, which is a non-GUI backend, so cannot show the figure.\n",
      "  plt.show()\n",
      "C:\\Users\\tanlei\\AppData\\Local\\Temp\\ipykernel_12740\\2351048688.py:7: UserWarning: Matplotlib is currently using module://matplotlib_inline.backend_inline, which is a non-GUI backend, so cannot show the figure.\n",
      "  plt.show()\n",
      "C:\\Users\\tanlei\\AppData\\Local\\Temp\\ipykernel_12740\\2351048688.py:7: UserWarning: Matplotlib is currently using module://matplotlib_inline.backend_inline, which is a non-GUI backend, so cannot show the figure.\n",
      "  plt.show()\n",
      "C:\\Users\\tanlei\\AppData\\Local\\Temp\\ipykernel_12740\\2351048688.py:7: UserWarning: Matplotlib is currently using module://matplotlib_inline.backend_inline, which is a non-GUI backend, so cannot show the figure.\n",
      "  plt.show()\n",
      "C:\\Users\\tanlei\\AppData\\Local\\Temp\\ipykernel_12740\\2351048688.py:7: UserWarning: Matplotlib is currently using module://matplotlib_inline.backend_inline, which is a non-GUI backend, so cannot show the figure.\n",
      "  plt.show()\n",
      "C:\\Users\\tanlei\\AppData\\Local\\Temp\\ipykernel_12740\\2351048688.py:7: UserWarning: Matplotlib is currently using module://matplotlib_inline.backend_inline, which is a non-GUI backend, so cannot show the figure.\n",
      "  plt.show()\n",
      "C:\\Users\\tanlei\\AppData\\Local\\Temp\\ipykernel_12740\\2351048688.py:7: UserWarning: Matplotlib is currently using module://matplotlib_inline.backend_inline, which is a non-GUI backend, so cannot show the figure.\n",
      "  plt.show()\n",
      "C:\\Users\\tanlei\\AppData\\Local\\Temp\\ipykernel_12740\\2351048688.py:7: UserWarning: Matplotlib is currently using module://matplotlib_inline.backend_inline, which is a non-GUI backend, so cannot show the figure.\n",
      "  plt.show()\n",
      "C:\\Users\\tanlei\\AppData\\Local\\Temp\\ipykernel_12740\\2351048688.py:2: RuntimeWarning: More than 20 figures have been opened. Figures created through the pyplot interface (`matplotlib.pyplot.figure`) are retained until explicitly closed and may consume too much memory. (To control this warning, see the rcParam `figure.max_open_warning`). Consider using `matplotlib.pyplot.close()`.\n",
      "  plt.figure(figsize=(8, 6))\n",
      "C:\\Users\\tanlei\\AppData\\Local\\Temp\\ipykernel_12740\\2351048688.py:7: UserWarning: Matplotlib is currently using module://matplotlib_inline.backend_inline, which is a non-GUI backend, so cannot show the figure.\n",
      "  plt.show()\n",
      "C:\\Users\\tanlei\\AppData\\Local\\Temp\\ipykernel_12740\\2351048688.py:7: UserWarning: Matplotlib is currently using module://matplotlib_inline.backend_inline, which is a non-GUI backend, so cannot show the figure.\n",
      "  plt.show()\n",
      "C:\\Users\\tanlei\\AppData\\Local\\Temp\\ipykernel_12740\\2351048688.py:7: UserWarning: Matplotlib is currently using module://matplotlib_inline.backend_inline, which is a non-GUI backend, so cannot show the figure.\n",
      "  plt.show()\n"
     ]
    }
   ],
   "source": [
    "# 筛选出 int 和 float 类型的列\n",
    "numeric_cols = df.select_dtypes(include=['int', 'float']).columns\n",
    "\n",
    "# 循环调用绘制密度曲线的函数\n",
    "for col in numeric_cols:\n",
    "    plot_histogram_without_nan(col, df)"
   ],
   "metadata": {
    "collapsed": false,
    "ExecuteTime": {
     "end_time": "2023-06-02T17:25:37.612945100Z",
     "start_time": "2023-06-02T17:24:50.909663600Z"
    }
   }
  },
  {
   "cell_type": "code",
   "execution_count": null,
   "outputs": [],
   "source": [],
   "metadata": {
    "collapsed": false
   }
  }
 ],
 "metadata": {
  "kernelspec": {
   "display_name": "Python 3",
   "language": "python",
   "name": "python3"
  },
  "language_info": {
   "codemirror_mode": {
    "name": "ipython",
    "version": 2
   },
   "file_extension": ".py",
   "mimetype": "text/x-python",
   "name": "python",
   "nbconvert_exporter": "python",
   "pygments_lexer": "ipython2",
   "version": "2.7.6"
  }
 },
 "nbformat": 4,
 "nbformat_minor": 0
}

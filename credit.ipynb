{
 "cells": [
  {
   "cell_type": "markdown",
   "source": [
    "# 0. 导入数据 & 数据预览"
   ],
   "metadata": {
    "collapsed": false
   }
  },
  {
   "cell_type": "code",
   "execution_count": 1,
   "metadata": {
    "collapsed": true,
    "ExecuteTime": {
     "end_time": "2023-05-30T03:22:03.676000900Z",
     "start_time": "2023-05-30T03:22:02.855779100Z"
    }
   },
   "outputs": [
    {
     "ename": "ModuleNotFoundError",
     "evalue": "No module named 'pandas'",
     "output_type": "error",
     "traceback": [
      "\u001B[1;31m---------------------------------------------------------------------------\u001B[0m",
      "\u001B[1;31mModuleNotFoundError\u001B[0m                       Traceback (most recent call last)",
      "Cell \u001B[1;32mIn[1], line 3\u001B[0m\n\u001B[0;32m      1\u001B[0m \u001B[38;5;66;03m# 导入相关库\u001B[39;00m\n\u001B[0;32m      2\u001B[0m \u001B[38;5;28;01mimport\u001B[39;00m \u001B[38;5;21;01mnumpy\u001B[39;00m \u001B[38;5;28;01mas\u001B[39;00m \u001B[38;5;21;01mnp\u001B[39;00m\n\u001B[1;32m----> 3\u001B[0m \u001B[38;5;28;01mimport\u001B[39;00m \u001B[38;5;21;01mpandas\u001B[39;00m \u001B[38;5;28;01mas\u001B[39;00m \u001B[38;5;21;01mpd\u001B[39;00m\n\u001B[0;32m      4\u001B[0m \u001B[38;5;28;01mimport\u001B[39;00m \u001B[38;5;21;01mmatplotlib\u001B[39;00m\u001B[38;5;21;01m.\u001B[39;00m\u001B[38;5;21;01mpyplot\u001B[39;00m \u001B[38;5;28;01mas\u001B[39;00m \u001B[38;5;21;01mplt\u001B[39;00m\n",
      "\u001B[1;31mModuleNotFoundError\u001B[0m: No module named 'pandas'"
     ]
    }
   ],
   "source": [
    "# 导入相关库\n",
    "import numpy as np\n",
    "import pandas as pd\n",
    "import matplotlib.pyplot as plt"
   ]
  },
  {
   "cell_type": "code",
   "execution_count": 2,
   "outputs": [
    {
     "name": "stdout",
     "output_type": "stream",
     "text": [
      "(23413, 28)\n",
      "['ID', 'Customer_ID', 'Month', 'Name', 'Age', 'SSN', 'Occupation', 'Annual_Income', 'Monthly_Inhand_Salary', 'Num_Bank_Accounts', 'Num_Credit_Card', 'Interest_Rate', 'Num_of_Loan', 'Type_of_Loan', 'Delay_from_due_date', 'Num_of_Delayed_Payment', 'Changed_Credit_Limit', 'Num_Credit_Inquiries', 'Credit_Mix', 'Outstanding_Debt', 'Credit_Utilization_Ratio', 'Credit_History_Age', 'Payment_of_Min_Amount', 'Total_EMI_per_month', 'Amount_invested_monthly', 'Payment_Behaviour', 'Monthly_Balance', 'Credit_Score']\n"
     ]
    },
    {
     "data": {
      "text/plain": "        ID Customer_ID    Month         Name Age          SSN  Occupation  \\\n0   0x2184  CUS_0xab00     July        Markx  18  468-20-7719     Manager   \n1  0x196a2  CUS_0x5fe0      May  Erwin Sebae  31  032-10-6627    Mechanic   \n2  0x1e96c  CUS_0xc301     July          NaN  37  169-93-9953    Musician   \n3   0x1b8a  CUS_0x1288  January      Taylorq  33  609-85-2725      Doctor   \n4  0x24b9d   CUS_0x899    April     Klaymanm  18  797-96-0406  Journalist   \n\n  Annual_Income  Monthly_Inhand_Salary  Num_Bank_Accounts  ...  Credit_Mix  \\\n0      31633.54            2930.128333                  1  ...        Good   \n1      33446.44                    NaN                  6  ...           _   \n2      21212.42            1910.701667                  1  ...           _   \n3      60938.13            5163.177500                 10  ...         Bad   \n4      73057.16            5998.096667                  4  ...    Standard   \n\n   Outstanding_Debt Credit_Utilization_Ratio     Credit_History_Age  \\\n0            846.45                37.934665  22 Years and 2 Months   \n1           2953.68                37.895848   9 Years and 7 Months   \n2            479.83                36.491037  23 Years and 1 Months   \n3           3947.24                21.744884  4 Years and 10 Months   \n4           2569.09                27.350833   9 Years and 6 Months   \n\n   Payment_of_Min_Amount Total_EMI_per_month Amount_invested_monthly  \\\n0                     No           50.768440        275.759794928842   \n1                    Yes          133.355905        93.6504419059186   \n2                     No           50.305036      172.47769262119868   \n3                    Yes          378.304673      166.48767607357289   \n4                    Yes           91.354188       66.23215374275686   \n\n                  Payment_Behaviour     Monthly_Balance Credit_Score  \n0   Low_spent_Medium_value_payments   246.4845983624356         Poor  \n1    Low_spent_Large_value_payments   348.8139865924912         Poor  \n2    Low_spent_Large_value_payments  238.28743816565944         Good  \n3   High_spent_Small_value_payments   231.5254005497842         Poor  \n4  High_spent_Medium_value_payments   692.2233254019017         Poor  \n\n[5 rows x 28 columns]",
      "text/html": "<div>\n<style scoped>\n    .dataframe tbody tr th:only-of-type {\n        vertical-align: middle;\n    }\n\n    .dataframe tbody tr th {\n        vertical-align: top;\n    }\n\n    .dataframe thead th {\n        text-align: right;\n    }\n</style>\n<table border=\"1\" class=\"dataframe\">\n  <thead>\n    <tr style=\"text-align: right;\">\n      <th></th>\n      <th>ID</th>\n      <th>Customer_ID</th>\n      <th>Month</th>\n      <th>Name</th>\n      <th>Age</th>\n      <th>SSN</th>\n      <th>Occupation</th>\n      <th>Annual_Income</th>\n      <th>Monthly_Inhand_Salary</th>\n      <th>Num_Bank_Accounts</th>\n      <th>...</th>\n      <th>Credit_Mix</th>\n      <th>Outstanding_Debt</th>\n      <th>Credit_Utilization_Ratio</th>\n      <th>Credit_History_Age</th>\n      <th>Payment_of_Min_Amount</th>\n      <th>Total_EMI_per_month</th>\n      <th>Amount_invested_monthly</th>\n      <th>Payment_Behaviour</th>\n      <th>Monthly_Balance</th>\n      <th>Credit_Score</th>\n    </tr>\n  </thead>\n  <tbody>\n    <tr>\n      <th>0</th>\n      <td>0x2184</td>\n      <td>CUS_0xab00</td>\n      <td>July</td>\n      <td>Markx</td>\n      <td>18</td>\n      <td>468-20-7719</td>\n      <td>Manager</td>\n      <td>31633.54</td>\n      <td>2930.128333</td>\n      <td>1</td>\n      <td>...</td>\n      <td>Good</td>\n      <td>846.45</td>\n      <td>37.934665</td>\n      <td>22 Years and 2 Months</td>\n      <td>No</td>\n      <td>50.768440</td>\n      <td>275.759794928842</td>\n      <td>Low_spent_Medium_value_payments</td>\n      <td>246.4845983624356</td>\n      <td>Poor</td>\n    </tr>\n    <tr>\n      <th>1</th>\n      <td>0x196a2</td>\n      <td>CUS_0x5fe0</td>\n      <td>May</td>\n      <td>Erwin Sebae</td>\n      <td>31</td>\n      <td>032-10-6627</td>\n      <td>Mechanic</td>\n      <td>33446.44</td>\n      <td>NaN</td>\n      <td>6</td>\n      <td>...</td>\n      <td>_</td>\n      <td>2953.68</td>\n      <td>37.895848</td>\n      <td>9 Years and 7 Months</td>\n      <td>Yes</td>\n      <td>133.355905</td>\n      <td>93.6504419059186</td>\n      <td>Low_spent_Large_value_payments</td>\n      <td>348.8139865924912</td>\n      <td>Poor</td>\n    </tr>\n    <tr>\n      <th>2</th>\n      <td>0x1e96c</td>\n      <td>CUS_0xc301</td>\n      <td>July</td>\n      <td>NaN</td>\n      <td>37</td>\n      <td>169-93-9953</td>\n      <td>Musician</td>\n      <td>21212.42</td>\n      <td>1910.701667</td>\n      <td>1</td>\n      <td>...</td>\n      <td>_</td>\n      <td>479.83</td>\n      <td>36.491037</td>\n      <td>23 Years and 1 Months</td>\n      <td>No</td>\n      <td>50.305036</td>\n      <td>172.47769262119868</td>\n      <td>Low_spent_Large_value_payments</td>\n      <td>238.28743816565944</td>\n      <td>Good</td>\n    </tr>\n    <tr>\n      <th>3</th>\n      <td>0x1b8a</td>\n      <td>CUS_0x1288</td>\n      <td>January</td>\n      <td>Taylorq</td>\n      <td>33</td>\n      <td>609-85-2725</td>\n      <td>Doctor</td>\n      <td>60938.13</td>\n      <td>5163.177500</td>\n      <td>10</td>\n      <td>...</td>\n      <td>Bad</td>\n      <td>3947.24</td>\n      <td>21.744884</td>\n      <td>4 Years and 10 Months</td>\n      <td>Yes</td>\n      <td>378.304673</td>\n      <td>166.48767607357289</td>\n      <td>High_spent_Small_value_payments</td>\n      <td>231.5254005497842</td>\n      <td>Poor</td>\n    </tr>\n    <tr>\n      <th>4</th>\n      <td>0x24b9d</td>\n      <td>CUS_0x899</td>\n      <td>April</td>\n      <td>Klaymanm</td>\n      <td>18</td>\n      <td>797-96-0406</td>\n      <td>Journalist</td>\n      <td>73057.16</td>\n      <td>5998.096667</td>\n      <td>4</td>\n      <td>...</td>\n      <td>Standard</td>\n      <td>2569.09</td>\n      <td>27.350833</td>\n      <td>9 Years and 6 Months</td>\n      <td>Yes</td>\n      <td>91.354188</td>\n      <td>66.23215374275686</td>\n      <td>High_spent_Medium_value_payments</td>\n      <td>692.2233254019017</td>\n      <td>Poor</td>\n    </tr>\n  </tbody>\n</table>\n<p>5 rows × 28 columns</p>\n</div>"
     },
     "execution_count": 2,
     "metadata": {},
     "output_type": "execute_result"
    }
   ],
   "source": [
    "# 导入数据\n",
    "data = pd.read_csv('train_split.csv')\n",
    "\n",
    "# 获得数据属性名称\n",
    "columns = data.columns.tolist()\n",
    "print(data.shape)\n",
    "print(columns)\n",
    "\n",
    "# 查看数据前几项\n",
    "data.head()"
   ],
   "metadata": {
    "collapsed": false,
    "ExecuteTime": {
     "end_time": "2023-05-27T17:58:30.770170800Z",
     "start_time": "2023-05-27T17:58:30.591994500Z"
    }
   }
  },
  {
   "cell_type": "code",
   "execution_count": 3,
   "outputs": [
    {
     "data": {
      "text/plain": "       Monthly_Inhand_Salary  Num_Bank_Accounts  Num_Credit_Card  \\\ncount           19832.000000       23413.000000     23413.000000   \nmean             4141.187099          16.760347        22.776492   \nstd              3252.627113         114.255920       131.197844   \nmin               319.556250          -1.000000         0.000000   \n25%              1564.692500           3.000000         4.000000   \n50%              3080.555000           6.000000         6.000000   \n75%              5801.966667           8.000000         7.000000   \nmax             15204.633333        1794.000000      1498.000000   \n\n       Interest_Rate  Delay_from_due_date  Num_Credit_Inquiries  \\\ncount   23413.000000         23413.000000          22975.000000   \nmean       72.264298            22.534062             27.925223   \nstd       460.147341            16.543341            191.189327   \nmin         1.000000            -5.000000              0.000000   \n25%         7.000000            10.000000              3.000000   \n50%        15.000000            19.000000              6.000000   \n75%        24.000000            31.000000             10.000000   \nmax      5788.000000            67.000000           2587.000000   \n\n       Credit_Utilization_Ratio  Total_EMI_per_month  \ncount              23413.000000         23413.000000  \nmean                  32.215666          1342.878898  \nstd                    5.121565          8027.044087  \nmin                   20.172942             0.000000  \n25%                   27.976271            33.767386  \n50%                   32.250408            73.981294  \n75%                   36.458782           169.936005  \nmax                   49.522324         82236.000000  ",
      "text/html": "<div>\n<style scoped>\n    .dataframe tbody tr th:only-of-type {\n        vertical-align: middle;\n    }\n\n    .dataframe tbody tr th {\n        vertical-align: top;\n    }\n\n    .dataframe thead th {\n        text-align: right;\n    }\n</style>\n<table border=\"1\" class=\"dataframe\">\n  <thead>\n    <tr style=\"text-align: right;\">\n      <th></th>\n      <th>Monthly_Inhand_Salary</th>\n      <th>Num_Bank_Accounts</th>\n      <th>Num_Credit_Card</th>\n      <th>Interest_Rate</th>\n      <th>Delay_from_due_date</th>\n      <th>Num_Credit_Inquiries</th>\n      <th>Credit_Utilization_Ratio</th>\n      <th>Total_EMI_per_month</th>\n    </tr>\n  </thead>\n  <tbody>\n    <tr>\n      <th>count</th>\n      <td>19832.000000</td>\n      <td>23413.000000</td>\n      <td>23413.000000</td>\n      <td>23413.000000</td>\n      <td>23413.000000</td>\n      <td>22975.000000</td>\n      <td>23413.000000</td>\n      <td>23413.000000</td>\n    </tr>\n    <tr>\n      <th>mean</th>\n      <td>4141.187099</td>\n      <td>16.760347</td>\n      <td>22.776492</td>\n      <td>72.264298</td>\n      <td>22.534062</td>\n      <td>27.925223</td>\n      <td>32.215666</td>\n      <td>1342.878898</td>\n    </tr>\n    <tr>\n      <th>std</th>\n      <td>3252.627113</td>\n      <td>114.255920</td>\n      <td>131.197844</td>\n      <td>460.147341</td>\n      <td>16.543341</td>\n      <td>191.189327</td>\n      <td>5.121565</td>\n      <td>8027.044087</td>\n    </tr>\n    <tr>\n      <th>min</th>\n      <td>319.556250</td>\n      <td>-1.000000</td>\n      <td>0.000000</td>\n      <td>1.000000</td>\n      <td>-5.000000</td>\n      <td>0.000000</td>\n      <td>20.172942</td>\n      <td>0.000000</td>\n    </tr>\n    <tr>\n      <th>25%</th>\n      <td>1564.692500</td>\n      <td>3.000000</td>\n      <td>4.000000</td>\n      <td>7.000000</td>\n      <td>10.000000</td>\n      <td>3.000000</td>\n      <td>27.976271</td>\n      <td>33.767386</td>\n    </tr>\n    <tr>\n      <th>50%</th>\n      <td>3080.555000</td>\n      <td>6.000000</td>\n      <td>6.000000</td>\n      <td>15.000000</td>\n      <td>19.000000</td>\n      <td>6.000000</td>\n      <td>32.250408</td>\n      <td>73.981294</td>\n    </tr>\n    <tr>\n      <th>75%</th>\n      <td>5801.966667</td>\n      <td>8.000000</td>\n      <td>7.000000</td>\n      <td>24.000000</td>\n      <td>31.000000</td>\n      <td>10.000000</td>\n      <td>36.458782</td>\n      <td>169.936005</td>\n    </tr>\n    <tr>\n      <th>max</th>\n      <td>15204.633333</td>\n      <td>1794.000000</td>\n      <td>1498.000000</td>\n      <td>5788.000000</td>\n      <td>67.000000</td>\n      <td>2587.000000</td>\n      <td>49.522324</td>\n      <td>82236.000000</td>\n    </tr>\n  </tbody>\n</table>\n</div>"
     },
     "execution_count": 3,
     "metadata": {},
     "output_type": "execute_result"
    }
   ],
   "source": [
    "data.describe()"
   ],
   "metadata": {
    "collapsed": false,
    "ExecuteTime": {
     "end_time": "2023-05-27T17:58:34.362251Z",
     "start_time": "2023-05-27T17:58:34.316746600Z"
    }
   }
  },
  {
   "cell_type": "code",
   "execution_count": 4,
   "outputs": [
    {
     "name": "stdout",
     "output_type": "stream",
     "text": [
      "<class 'pandas.core.frame.DataFrame'>\n",
      "RangeIndex: 23413 entries, 0 to 23412\n",
      "Data columns (total 28 columns):\n",
      " #   Column                    Non-Null Count  Dtype  \n",
      "---  ------                    --------------  -----  \n",
      " 0   ID                        23413 non-null  object \n",
      " 1   Customer_ID               23413 non-null  object \n",
      " 2   Month                     23413 non-null  object \n",
      " 3   Name                      21019 non-null  object \n",
      " 4   Age                       23413 non-null  object \n",
      " 5   SSN                       23413 non-null  object \n",
      " 6   Occupation                23413 non-null  object \n",
      " 7   Annual_Income             23413 non-null  object \n",
      " 8   Monthly_Inhand_Salary     19832 non-null  float64\n",
      " 9   Num_Bank_Accounts         23413 non-null  int64  \n",
      " 10  Num_Credit_Card           23413 non-null  int64  \n",
      " 11  Interest_Rate             23413 non-null  int64  \n",
      " 12  Num_of_Loan               23413 non-null  object \n",
      " 13  Type_of_Loan              21019 non-null  object \n",
      " 14  Delay_from_due_date       23413 non-null  int64  \n",
      " 15  Num_of_Delayed_Payment    21799 non-null  object \n",
      " 16  Changed_Credit_Limit      23413 non-null  object \n",
      " 17  Num_Credit_Inquiries      22975 non-null  float64\n",
      " 18  Credit_Mix                23413 non-null  object \n",
      " 19  Outstanding_Debt          23413 non-null  object \n",
      " 20  Credit_Utilization_Ratio  23413 non-null  float64\n",
      " 21  Credit_History_Age        21270 non-null  object \n",
      " 22  Payment_of_Min_Amount     23413 non-null  object \n",
      " 23  Total_EMI_per_month       23413 non-null  float64\n",
      " 24  Amount_invested_monthly   22304 non-null  object \n",
      " 25  Payment_Behaviour         23413 non-null  object \n",
      " 26  Monthly_Balance           23126 non-null  object \n",
      " 27  Credit_Score              23413 non-null  object \n",
      "dtypes: float64(4), int64(4), object(20)\n",
      "memory usage: 5.0+ MB\n"
     ]
    }
   ],
   "source": [
    "data.info()"
   ],
   "metadata": {
    "collapsed": false,
    "ExecuteTime": {
     "end_time": "2023-05-27T17:58:37.940558Z",
     "start_time": "2023-05-27T17:58:37.877601Z"
    }
   }
  },
  {
   "cell_type": "code",
   "execution_count": null,
   "outputs": [],
   "source": [],
   "metadata": {
    "collapsed": false
   }
  }
 ],
 "metadata": {
  "kernelspec": {
   "display_name": "Python 3",
   "language": "python",
   "name": "python3"
  },
  "language_info": {
   "codemirror_mode": {
    "name": "ipython",
    "version": 2
   },
   "file_extension": ".py",
   "mimetype": "text/x-python",
   "name": "python",
   "nbconvert_exporter": "python",
   "pygments_lexer": "ipython2",
   "version": "2.7.6"
  }
 },
 "nbformat": 4,
 "nbformat_minor": 0
}
